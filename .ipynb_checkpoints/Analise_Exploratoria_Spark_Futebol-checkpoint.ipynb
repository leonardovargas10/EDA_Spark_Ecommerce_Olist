{
 "cells": [
  {
   "cell_type": "markdown",
   "metadata": {},
   "source": [
    "<h1 style='color: blue; font-size: 34px; font-weight: bold;'> Projeto Proposto \n",
    "</h1>\n",
    "\n",
    "<p style='font-size: 18px; line-height: 2; margin: 0px 0px; text-align: justify; text-indent: 0px;'>    \n",
    "<i> Este projeto baseia-se na aplicação de Técnicas de PySpark em uma Análise Exploratória nos dados de Futebol na Europa. </i>       \n",
    "</p>  "
   ]
  },
  {
   "cell_type": "markdown",
   "metadata": {},
   "source": [
    "# <font color='red' style='font-size: 40px;'> Library  </font>"
   ]
  },
  {
   "cell_type": "code",
   "execution_count": 1,
   "metadata": {},
   "outputs": [],
   "source": [
    "## Bibliotecas De Manipulação de Dados e Visualização\n",
    "import pandas as pd \n",
    "import matplotlib.pyplot as plt\n",
    "import seaborn as sns\n",
    "from pyspark.sql import SparkSession, Row \n",
    "from pyspark.sql.functions import *\n",
    "\n",
    "## Bibliotecas de Modelagem Matemática e Estatística\n",
    "import numpy as np\n",
    "import scipy as sp \n",
    "import statsmodels.api as sm\n",
    "import statsmodels.formula.api as smf\n",
    "\n",
    "# Bibliotecas de Manipulação de Tempo\n",
    "from datetime import datetime, date\n",
    "\n",
    "\n",
    "# Parâmetros de Otimização\n",
    "import warnings\n",
    "%matplotlib inline\n",
    "sns.set()\n",
    "plt.rcParams['font.family'] = 'Arial'\n",
    "plt.rcParams['font.size'] = '14'\n",
    "plt.rcParams['figure.figsize'] = [10, 5]\n",
    "pd.set_option('display.max_rows', 100)\n",
    "pd.set_option('display.max_columns', 100)\n",
    "pd.set_option('display.float_format', lambda x: '%.2f' % x) # Tira os números do formato de Notação Científica\n",
    "np.set_printoptions(suppress=True) # Tira os números do formato de Notação Científica em Numpy Arrays\n",
    "warnings.filterwarnings('ignore')\n",
    "warnings.simplefilter(action='ignore', category=FutureWarning) # Retira Future Warnings"
   ]
  },
  {
   "cell_type": "markdown",
   "metadata": {},
   "source": [
    "# <font color='red' style='font-size: 40px;'> Funções </font>"
   ]
  },
  {
   "cell_type": "code",
   "execution_count": null,
   "metadata": {},
   "outputs": [],
   "source": []
  },
  {
   "cell_type": "markdown",
   "metadata": {},
   "source": [
    "# <font color='red' style='font-size: 40px;'> Entendimento da Base de Dados </font>"
   ]
  },
  {
   "cell_type": "code",
   "execution_count": 14,
   "metadata": {},
   "outputs": [
    {
     "name": "stdout",
     "output_type": "stream",
     "text": [
      "+-------+-----------------+\n",
      "|summary|               id|\n",
      "+-------+-----------------+\n",
      "|  count|               11|\n",
      "|   mean|12452.09090909091|\n",
      "+-------+-----------------+\n",
      "only showing top 2 rows\n",
      "\n",
      "+-------+-----------------+\n",
      "|summary|               id|\n",
      "+-------+-----------------+\n",
      "|  count|               11|\n",
      "|   mean|12452.09090909091|\n",
      "+-------+-----------------+\n",
      "only showing top 2 rows\n",
      "\n",
      "+-------+------------------+\n",
      "|summary|        country_id|\n",
      "+-------+------------------+\n",
      "|  count|             25986|\n",
      "|   mean|11738.630316794333|\n",
      "+-------+------------------+\n",
      "only showing top 2 rows\n",
      "\n",
      "+-------+------------------+\n",
      "|summary|     player_api_id|\n",
      "+-------+------------------+\n",
      "|  count|             11060|\n",
      "|   mean|156582.42721518988|\n",
      "+-------+------------------+\n",
      "only showing top 2 rows\n",
      "\n",
      "+-------+------------------+\n",
      "|summary|     player_api_id|\n",
      "+-------+------------------+\n",
      "|  count|            183978|\n",
      "|   mean|135900.61732381047|\n",
      "+-------+------------------+\n",
      "only showing top 2 rows\n",
      "\n",
      "+-------+------------------+\n",
      "|summary|  team_fifa_api_id|\n",
      "+-------+------------------+\n",
      "|  count|               288|\n",
      "|   mean|21534.305555555555|\n",
      "+-------+------------------+\n",
      "only showing top 2 rows\n",
      "\n",
      "+-------+------------------+\n",
      "|summary|  team_fifa_api_id|\n",
      "+-------+------------------+\n",
      "|  count|              1458|\n",
      "|   mean|17706.982167352537|\n",
      "+-------+------------------+\n",
      "only showing top 2 rows\n",
      "\n"
     ]
    }
   ],
   "source": [
    "spark = SparkSession.builder.appName('Soccer').getOrCreate()\n",
    "\n",
    "df_country = spark.read.option('header', 'True').csv('../10_analise_exploratoria_spark_futebol/data/Country.csv')\n",
    "df_country.select('id').describe().show(2)\n",
    "\n",
    "df_league = spark.read.option('header', 'True').csv('../10_analise_exploratoria_spark_futebol/data/League.csv')\n",
    "df_league.select('id').describe().show(2)\n",
    "\n",
    "df_match = spark.read.option('header', 'True').csv('../10_analise_exploratoria_spark_futebol/data/Match.csv')\n",
    "df_match.select('country_id').describe().show(2)\n",
    "\n",
    "df_player = spark.read.option('header', 'True').csv('../10_analise_exploratoria_spark_futebol/data/Player.csv')\n",
    "df_player.select('player_api_id').describe().show(2)\n",
    "\n",
    "df_player_attributes = spark.read.option('header', 'True').csv('../10_analise_exploratoria_spark_futebol/data/Player_Attributes.csv')\n",
    "df_player_attributes.select('player_api_id').describe().show(2)\n",
    "\n",
    "df_team = spark.read.option('header', 'True').csv('../10_analise_exploratoria_spark_futebol/data/Team.csv')\n",
    "df_team.select('team_fifa_api_id').describe().show(2)\n",
    "\n",
    "df_team_attributes = spark.read.option('header', 'True').csv('../10_analise_exploratoria_spark_futebol/data/Team_Attributes.csv')\n",
    "df_team_attributes.select('team_fifa_api_id').describe().show(2)"
   ]
  },
  {
   "cell_type": "code",
   "execution_count": null,
   "metadata": {},
   "outputs": [],
   "source": []
  },
  {
   "cell_type": "code",
   "execution_count": null,
   "metadata": {},
   "outputs": [],
   "source": []
  }
 ],
 "metadata": {
  "kernelspec": {
   "display_name": "Python 3 (ipykernel)",
   "language": "python",
   "name": "python3"
  },
  "language_info": {
   "codemirror_mode": {
    "name": "ipython",
    "version": 3
   },
   "file_extension": ".py",
   "mimetype": "text/x-python",
   "name": "python",
   "nbconvert_exporter": "python",
   "pygments_lexer": "ipython3",
   "version": "3.9.12"
  },
  "vscode": {
   "interpreter": {
    "hash": "5a9a036f549c34521959f2e35c11282d59c2fa6997060d671aa6f29f1c44b680"
   }
  }
 },
 "nbformat": 4,
 "nbformat_minor": 2
}
