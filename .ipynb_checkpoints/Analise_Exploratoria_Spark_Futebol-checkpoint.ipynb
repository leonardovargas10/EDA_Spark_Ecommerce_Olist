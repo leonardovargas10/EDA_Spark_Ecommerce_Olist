{
 "cells": [
  {
   "cell_type": "markdown",
   "metadata": {},
   "source": [
    "<h1 style='color: blue; font-size: 34px; font-weight: bold;'> Projeto Proposto \n",
    "</h1>\n",
    "\n",
    "<p style='font-size: 18px; line-height: 2; margin: 0px 0px; text-align: justify; text-indent: 0px;'>    \n",
    "<i> Este projeto baseia-se na aplicação de Técnicas de PySpark em uma Análise Exploratória nos dados de Futebol na Europa. </i>       \n",
    "</p>  "
   ]
  },
  {
   "cell_type": "markdown",
   "metadata": {},
   "source": [
    "# <font color='red' style='font-size: 40px;'> Library  </font>"
   ]
  },
  {
   "cell_type": "code",
   "execution_count": 17,
   "metadata": {},
   "outputs": [],
   "source": [
    "## Bibliotecas De Manipulação de Dados e Visualização\n",
    "import pandas as pd \n",
    "import matplotlib.pyplot as plt\n",
    "import seaborn as sns\n",
    "from pyspark.sql import SparkSession, Row \n",
    "import pyspark.sql.functions as F\n",
    "\n",
    "## Bibliotecas de Modelagem Matemática e Estatística\n",
    "import numpy as np\n",
    "import scipy as sp \n",
    "import statsmodels.api as sm\n",
    "import statsmodels.formula.api as smf\n",
    "\n",
    "# Bibliotecas de Manipulação de Tempo\n",
    "from datetime import datetime, date\n",
    "\n",
    "\n",
    "# Parâmetros de Otimização\n",
    "import warnings\n",
    "%matplotlib inline\n",
    "sns.set()\n",
    "plt.rcParams['font.family'] = 'Arial'\n",
    "plt.rcParams['font.size'] = '14'\n",
    "plt.rcParams['figure.figsize'] = [10, 5]\n",
    "pd.set_option('display.max_rows', 100)\n",
    "pd.set_option('display.max_columns', 100)\n",
    "pd.set_option('display.float_format', lambda x: '%.2f' % x) # Tira os números do formato de Notação Científica\n",
    "np.set_printoptions(suppress=True) # Tira os números do formato de Notação Científica em Numpy Arrays\n",
    "warnings.filterwarnings('ignore')\n",
    "warnings.simplefilter(action='ignore', category=FutureWarning) # Retira Future Warnings"
   ]
  },
  {
   "cell_type": "markdown",
   "metadata": {},
   "source": [
    "# <font color='red' style='font-size: 40px;'> Entendimento da Base de Dados </font>"
   ]
  },
  {
   "cell_type": "code",
   "execution_count": 2,
   "metadata": {},
   "outputs": [],
   "source": [
    "spark = SparkSession.builder.appName('Soccer').getOrCreate()"
   ]
  },
  {
   "cell_type": "markdown",
   "metadata": {},
   "source": [
    "## 1) Country "
   ]
  },
  {
   "cell_type": "code",
   "execution_count": 3,
   "metadata": {},
   "outputs": [
    {
     "name": "stdout",
     "output_type": "stream",
     "text": [
      "+-----+-----------+\n",
      "|   id|       name|\n",
      "+-----+-----------+\n",
      "|    1|    Belgium|\n",
      "| 1729|    England|\n",
      "| 4769|     France|\n",
      "| 7809|    Germany|\n",
      "|10257|      Italy|\n",
      "|13274|Netherlands|\n",
      "|15722|     Poland|\n",
      "|17642|   Portugal|\n",
      "|19694|   Scotland|\n",
      "|21518|      Spain|\n",
      "|24558|Switzerland|\n",
      "+-----+-----------+\n",
      "\n"
     ]
    }
   ],
   "source": [
    "df_country = spark.read.option('header', 'True').csv('../10_analise_exploratoria_spark_futebol/data/Country.csv')\n",
    "df_country.show()"
   ]
  },
  {
   "cell_type": "markdown",
   "metadata": {},
   "source": [
    "## 2) League "
   ]
  },
  {
   "cell_type": "code",
   "execution_count": 4,
   "metadata": {},
   "outputs": [
    {
     "name": "stdout",
     "output_type": "stream",
     "text": [
      "+-----+----------+--------------------+\n",
      "|   id|country_id|                name|\n",
      "+-----+----------+--------------------+\n",
      "|    1|         1|Belgium Jupiler L...|\n",
      "| 1729|      1729|England Premier L...|\n",
      "| 4769|      4769|      France Ligue 1|\n",
      "| 7809|      7809|Germany 1. Bundes...|\n",
      "|10257|     10257|       Italy Serie A|\n",
      "|13274|     13274|Netherlands Eredi...|\n",
      "|15722|     15722|  Poland Ekstraklasa|\n",
      "|17642|     17642|Portugal Liga ZON...|\n",
      "|19694|     19694|Scotland Premier ...|\n",
      "|21518|     21518|     Spain LIGA BBVA|\n",
      "|24558|     24558|Switzerland Super...|\n",
      "+-----+----------+--------------------+\n",
      "\n"
     ]
    }
   ],
   "source": [
    "df_league = spark.read.option('header', 'True').csv('../10_analise_exploratoria_spark_futebol/data/League.csv')\n",
    "df_league.show()"
   ]
  },
  {
   "cell_type": "markdown",
   "metadata": {},
   "source": [
    "## 3) Match "
   ]
  },
  {
   "cell_type": "code",
   "execution_count": 5,
   "metadata": {},
   "outputs": [
    {
     "name": "stdout",
     "output_type": "stream",
     "text": [
      "+---+----------+---------+---------+-----+-------------------+------------+----------------+----------------+--------------+\n",
      "| id|country_id|league_id|   season|stage|               date|match_api_id|home_team_api_id|away_team_api_id|home_team_goal|\n",
      "+---+----------+---------+---------+-----+-------------------+------------+----------------+----------------+--------------+\n",
      "|  1|         1|        1|2008/2009|    1|2008-08-17 00:00:00|      492473|            9987|            9993|             1|\n",
      "|  2|         1|        1|2008/2009|    1|2008-08-16 00:00:00|      492474|           10000|            9994|             0|\n",
      "|  3|         1|        1|2008/2009|    1|2008-08-16 00:00:00|      492475|            9984|            8635|             0|\n",
      "|  4|         1|        1|2008/2009|    1|2008-08-17 00:00:00|      492476|            9991|            9998|             5|\n",
      "|  5|         1|        1|2008/2009|    1|2008-08-16 00:00:00|      492477|            7947|            9985|             1|\n",
      "|  6|         1|        1|2008/2009|    1|2008-09-24 00:00:00|      492478|            8203|            8342|             1|\n",
      "|  7|         1|        1|2008/2009|    1|2008-08-16 00:00:00|      492479|            9999|            8571|             2|\n",
      "|  8|         1|        1|2008/2009|    1|2008-08-16 00:00:00|      492480|            4049|            9996|             1|\n",
      "|  9|         1|        1|2008/2009|    1|2008-08-16 00:00:00|      492481|           10001|            9986|             1|\n",
      "| 10|         1|        1|2008/2009|   10|2008-11-01 00:00:00|      492564|            8342|            8571|             4|\n",
      "| 11|         1|        1|2008/2009|   10|2008-10-31 00:00:00|      492565|            9985|            9986|             1|\n",
      "| 12|         1|        1|2008/2009|   10|2008-11-02 00:00:00|      492566|           10000|            9991|             0|\n",
      "| 13|         1|        1|2008/2009|   10|2008-11-01 00:00:00|      492567|            9994|            9998|             0|\n",
      "| 14|         1|        1|2008/2009|   10|2008-11-01 00:00:00|      492568|            7947|           10001|             2|\n",
      "| 15|         1|        1|2008/2009|   10|2008-11-01 00:00:00|      492569|            8203|            9999|             1|\n",
      "| 16|         1|        1|2008/2009|   10|2008-11-01 00:00:00|      492570|            9996|            9984|             0|\n",
      "| 17|         1|        1|2008/2009|   10|2008-11-01 00:00:00|      492571|            4049|            9987|             1|\n",
      "| 18|         1|        1|2008/2009|   10|2008-11-02 00:00:00|      492572|            9993|            8635|             1|\n",
      "| 19|         1|        1|2008/2009|   11|2008-11-08 00:00:00|      492573|            8635|            9994|             2|\n",
      "| 20|         1|        1|2008/2009|   11|2008-11-08 00:00:00|      492574|            9998|            9996|             0|\n",
      "+---+----------+---------+---------+-----+-------------------+------------+----------------+----------------+--------------+\n",
      "only showing top 20 rows\n",
      "\n"
     ]
    }
   ],
   "source": [
    "df_match = spark.read.option('header', 'True').csv('../10_analise_exploratoria_spark_futebol/data/Match.csv')\n",
    "df_match.show()"
   ]
  },
  {
   "cell_type": "markdown",
   "metadata": {},
   "source": [
    "## 4) Team "
   ]
  },
  {
   "cell_type": "code",
   "execution_count": 6,
   "metadata": {},
   "outputs": [
    {
     "name": "stdout",
     "output_type": "stream",
     "text": [
      "+----+-----------+----------------+--------------------+---------------+\n",
      "|  id|team_api_id|team_fifa_api_id|      team_long_name|team_short_name|\n",
      "+----+-----------+----------------+--------------------+---------------+\n",
      "|   1|       9987|             673|            KRC Genk|            GEN|\n",
      "|   2|       9993|             675|        Beerschot AC|            BAC|\n",
      "|   3|      10000|           15005|    SV Zulte-Waregem|            ZUL|\n",
      "|   4|       9994|            2007|    Sporting Lokeren|            LOK|\n",
      "|   5|       9984|            1750|   KSV Cercle Brugge|            CEB|\n",
      "|   6|       8635|             229|      RSC Anderlecht|            AND|\n",
      "|   7|       9991|             674|            KAA Gent|            GEN|\n",
      "|   8|       9998|            1747|           RAEC Mons|            MON|\n",
      "|   9|       7947|            null|       FCV Dender EH|            DEN|\n",
      "|  10|       9985|             232|   Standard de Liège|            STL|\n",
      "|  11|       8203|          110724|         KV Mechelen|            MEC|\n",
      "|  12|       8342|             231|      Club Brugge KV|            CLB|\n",
      "|  13|       9999|             546|       KSV Roeselare|            ROS|\n",
      "|  14|       8571|          100081|         KV Kortrijk|            KOR|\n",
      "|  15|       4049|            null|              Tubize|            TUB|\n",
      "|  16|       9996|          111560|Royal Excel Mouscron|            MOU|\n",
      "|  17|      10001|             681|        KVC Westerlo|            WES|\n",
      "|  18|       9986|             670|  Sporting Charleroi|            CHA|\n",
      "| 614|       9997|             680|   Sint-Truidense VV|            STT|\n",
      "|1034|       9989|             239|           Lierse SK|            LIE|\n",
      "+----+-----------+----------------+--------------------+---------------+\n",
      "only showing top 20 rows\n",
      "\n"
     ]
    }
   ],
   "source": [
    "df_team = spark.read.option('header', 'True').csv('../10_analise_exploratoria_spark_futebol/data/Team.csv')\n",
    "df_team.show()"
   ]
  },
  {
   "cell_type": "code",
   "execution_count": 7,
   "metadata": {},
   "outputs": [
    {
     "name": "stdout",
     "output_type": "stream",
     "text": [
      "+---+----------------+-----------+-------------------+----------------+---------------------+--------------------+-------------------------+------------------+-----------------------+\n",
      "| id|team_fifa_api_id|team_api_id|               date|buildUpPlaySpeed|buildUpPlaySpeedClass|buildUpPlayDribbling|buildUpPlayDribblingClass|buildUpPlayPassing|buildUpPlayPassingClass|\n",
      "+---+----------------+-----------+-------------------+----------------+---------------------+--------------------+-------------------------+------------------+-----------------------+\n",
      "|  1|             434|       9930|2010-02-22 00:00:00|              60|             Balanced|                null|                   Little|                50|                  Mixed|\n",
      "|  2|             434|       9930|2014-09-19 00:00:00|              52|             Balanced|                48.0|                   Normal|                56|                  Mixed|\n",
      "|  3|             434|       9930|2015-09-10 00:00:00|              47|             Balanced|                41.0|                   Normal|                54|                  Mixed|\n",
      "|  4|              77|       8485|2010-02-22 00:00:00|              70|                 Fast|                null|                   Little|                70|                   Long|\n",
      "|  5|              77|       8485|2011-02-22 00:00:00|              47|             Balanced|                null|                   Little|                52|                  Mixed|\n",
      "|  6|              77|       8485|2012-02-22 00:00:00|              58|             Balanced|                null|                   Little|                62|                  Mixed|\n",
      "|  7|              77|       8485|2013-09-20 00:00:00|              62|             Balanced|                null|                   Little|                45|                  Mixed|\n",
      "|  8|              77|       8485|2014-09-19 00:00:00|              58|             Balanced|                64.0|                   Normal|                62|                  Mixed|\n",
      "|  9|              77|       8485|2015-09-10 00:00:00|              59|             Balanced|                64.0|                   Normal|                53|                  Mixed|\n",
      "| 10|             614|       8576|2010-02-22 00:00:00|              60|             Balanced|                null|                   Little|                40|                  Mixed|\n",
      "| 11|             614|       8576|2011-02-22 00:00:00|              65|             Balanced|                null|                   Little|                45|                  Mixed|\n",
      "| 12|             614|       8576|2012-02-22 00:00:00|              59|             Balanced|                null|                   Little|                52|                  Mixed|\n",
      "| 13|             614|       8576|2013-09-20 00:00:00|              59|             Balanced|                null|                   Little|                52|                  Mixed|\n",
      "| 14|             614|       8576|2014-09-19 00:00:00|              59|             Balanced|                57.0|                   Normal|                52|                  Mixed|\n",
      "| 15|             614|       8576|2015-09-10 00:00:00|              59|             Balanced|                57.0|                   Normal|                52|                  Mixed|\n",
      "| 16|              47|       8564|2010-02-22 00:00:00|              45|             Balanced|                null|                   Little|                30|                  Short|\n",
      "| 17|              47|       8564|2011-02-22 00:00:00|              65|             Balanced|                null|                   Little|                50|                  Mixed|\n",
      "| 18|              47|       8564|2012-02-22 00:00:00|              45|             Balanced|                null|                   Little|                50|                  Mixed|\n",
      "| 19|              47|       8564|2013-09-20 00:00:00|              48|             Balanced|                null|                   Little|                54|                  Mixed|\n",
      "| 20|              47|       8564|2014-09-19 00:00:00|              48|             Balanced|                70.0|                     Lots|                52|                  Mixed|\n",
      "+---+----------------+-----------+-------------------+----------------+---------------------+--------------------+-------------------------+------------------+-----------------------+\n",
      "only showing top 20 rows\n",
      "\n"
     ]
    }
   ],
   "source": [
    "df_team_attributes = spark.read.option('header', 'True').csv('../10_analise_exploratoria_spark_futebol/data/Team_Attributes.csv')\n",
    "df_team_attributes.show()"
   ]
  },
  {
   "cell_type": "markdown",
   "metadata": {},
   "source": [
    "## 5) Player "
   ]
  },
  {
   "cell_type": "code",
   "execution_count": 8,
   "metadata": {},
   "outputs": [
    {
     "name": "stdout",
     "output_type": "stream",
     "text": [
      "+---+-------------+--------------------+------------------+-------------------+------+------+\n",
      "| id|player_api_id|         player_name|player_fifa_api_id|           birthday|height|weight|\n",
      "+---+-------------+--------------------+------------------+-------------------+------+------+\n",
      "|  1|       505942|  Aaron Appindangoye|            218353|1992-02-29 00:00:00|182.88|   187|\n",
      "|  2|       155782|     Aaron Cresswell|            189615|1989-12-15 00:00:00|170.18|   146|\n",
      "|  3|       162549|         Aaron Doran|            186170|1991-05-13 00:00:00|170.18|   163|\n",
      "|  4|        30572|       Aaron Galindo|            140161|1982-05-08 00:00:00|182.88|   198|\n",
      "|  5|        23780|        Aaron Hughes|             17725|1979-11-08 00:00:00|182.88|   154|\n",
      "|  6|        27316|          Aaron Hunt|            158138|1986-09-04 00:00:00|182.88|   161|\n",
      "|  7|       564793|          Aaron Kuhl|            221280|1996-01-30 00:00:00|172.72|   146|\n",
      "|  8|        30895|        Aaron Lennon|            152747|1987-04-16 00:00:00| 165.1|   139|\n",
      "|  9|       528212|        Aaron Lennox|            206592|1993-02-19 00:00:00| 190.5|   181|\n",
      "| 10|       101042|       Aaron Meijers|            188621|1987-10-28 00:00:00|175.26|   170|\n",
      "| 11|        23889|       Aaron Mokoena|             47189|1980-11-25 00:00:00|182.88|   181|\n",
      "| 12|       231592|          Aaron Mooy|            194958|1990-09-15 00:00:00|175.26|   150|\n",
      "| 13|       163222|      Aaron Muirhead|            213568|1990-08-30 00:00:00|187.96|   168|\n",
      "| 14|        40719|        Aaron Niguez|            183853|1989-04-26 00:00:00|170.18|   143|\n",
      "| 15|        75489|        Aaron Ramsey|            186561|1990-12-26 00:00:00| 177.8|   154|\n",
      "| 16|       597948|       Aaron Splaine|            226014|1996-10-13 00:00:00|172.72|   163|\n",
      "| 17|       161644|Aaron Taylor-Sinc...|            213569|1991-04-08 00:00:00|182.88|   176|\n",
      "| 18|        23499|     Aaron Wilbraham|              2335|1979-10-21 00:00:00| 190.5|   159|\n",
      "| 19|       120919|   Aatif Chahechouhe|            187939|1986-07-02 00:00:00|175.26|   150|\n",
      "| 20|        46447|           Abasse Ba|            156626|1976-07-12 00:00:00|187.96|   185|\n",
      "+---+-------------+--------------------+------------------+-------------------+------+------+\n",
      "only showing top 20 rows\n",
      "\n"
     ]
    }
   ],
   "source": [
    "df_player = spark.read.option('header', 'True').csv('../10_analise_exploratoria_spark_futebol/data/Player.csv')\n",
    "df_player.show()"
   ]
  },
  {
   "cell_type": "code",
   "execution_count": 9,
   "metadata": {},
   "outputs": [
    {
     "name": "stdout",
     "output_type": "stream",
     "text": [
      "+---+------------------+-------------+-------------------+--------------+---------+--------------+-------------------+-------------------+--------+\n",
      "| id|player_fifa_api_id|player_api_id|               date|overall_rating|potential|preferred_foot|attacking_work_rate|defensive_work_rate|crossing|\n",
      "+---+------------------+-------------+-------------------+--------------+---------+--------------+-------------------+-------------------+--------+\n",
      "|  1|            218353|       505942|2016-02-18 00:00:00|          67.0|     71.0|         right|             medium|             medium|    49.0|\n",
      "|  2|            218353|       505942|2015-11-19 00:00:00|          67.0|     71.0|         right|             medium|             medium|    49.0|\n",
      "|  3|            218353|       505942|2015-09-21 00:00:00|          62.0|     66.0|         right|             medium|             medium|    49.0|\n",
      "|  4|            218353|       505942|2015-03-20 00:00:00|          61.0|     65.0|         right|             medium|             medium|    48.0|\n",
      "|  5|            218353|       505942|2007-02-22 00:00:00|          61.0|     65.0|         right|             medium|             medium|    48.0|\n",
      "|  6|            189615|       155782|2016-04-21 00:00:00|          74.0|     76.0|          left|               high|             medium|    80.0|\n",
      "|  7|            189615|       155782|2016-04-07 00:00:00|          74.0|     76.0|          left|               high|             medium|    80.0|\n",
      "|  8|            189615|       155782|2016-01-07 00:00:00|          73.0|     75.0|          left|               high|             medium|    79.0|\n",
      "|  9|            189615|       155782|2015-12-24 00:00:00|          73.0|     75.0|          left|               high|             medium|    79.0|\n",
      "| 10|            189615|       155782|2015-12-17 00:00:00|          73.0|     75.0|          left|               high|             medium|    79.0|\n",
      "| 11|            189615|       155782|2015-10-16 00:00:00|          73.0|     77.0|          left|               high|             medium|    79.0|\n",
      "| 12|            189615|       155782|2015-09-25 00:00:00|          74.0|     78.0|          left|               high|             medium|    79.0|\n",
      "| 13|            189615|       155782|2015-09-21 00:00:00|          73.0|     77.0|          left|             medium|             medium|    79.0|\n",
      "| 14|            189615|       155782|2015-01-09 00:00:00|          71.0|     75.0|          left|             medium|             medium|    78.0|\n",
      "| 15|            189615|       155782|2014-12-05 00:00:00|          71.0|     77.0|          left|             medium|             medium|    78.0|\n",
      "| 16|            189615|       155782|2014-11-07 00:00:00|          71.0|     77.0|          left|             medium|             medium|    78.0|\n",
      "| 17|            189615|       155782|2014-09-18 00:00:00|          70.0|     77.0|          left|             medium|             medium|    77.0|\n",
      "| 18|            189615|       155782|2014-05-02 00:00:00|          70.0|     79.0|          left|             medium|             medium|    77.0|\n",
      "| 19|            189615|       155782|2014-04-04 00:00:00|          70.0|     79.0|          left|             medium|             medium|    77.0|\n",
      "| 20|            189615|       155782|2014-03-14 00:00:00|          70.0|     79.0|          left|             medium|             medium|    77.0|\n",
      "+---+------------------+-------------+-------------------+--------------+---------+--------------+-------------------+-------------------+--------+\n",
      "only showing top 20 rows\n",
      "\n"
     ]
    }
   ],
   "source": [
    "df_player_attributes = spark.read.option('header', 'True').csv('../10_analise_exploratoria_spark_futebol/data/Player_Attributes.csv')\n",
    "df_player_attributes.show()"
   ]
  },
  {
   "cell_type": "markdown",
   "metadata": {},
   "source": [
    "# <font color='red' style='font-size: 40px;'> Perguntas a serem Respondidas </font>\n",
    "\n",
    "- Quantas partidas há em cada liga na temporada de 2016?\n",
    "\n",
    "- Qual Liga teve mais partidas empatadas na temporada de 2016?\n",
    "\n",
    "- Qual Liga teve mais vitórias na temporada de 2016?\n",
    "\n",
    "- Qual Liga teve mais gols na temporada de 2016?\n",
    "\n",
    "- Quais equipes tiveram mais vitórias em partidas na temporada de 2016 em cada uma de suas Ligas?\n",
    "\n",
    "- Quais equipes perderam menos partidas na temporada de 2016 em cada uma de suas Ligas?\n",
    "\n",
    "- Quais equipes melhoraram mais ao longo do período em cada uma de suas Ligas?\n",
    "\n",
    "- Quais jogadores tiveram mais penalidades?\n",
    "\n",
    "- Quantos jogadores têm em cada um dos intervalos de classificação geral?\n",
    "\n",
    "- Qual a Distribuição da diferença entre o primeiro e o último gol?\n",
    "\n",
    "- Quais jogadores tiveram crescimento no número de gols durante o ano?\n",
    "\n",
    "- Quais atributos de equipe levam a mais vitórias?\n",
    "\n",
    "- Quais os principais atributos que contribuem para a classificação geral dos jogadores?\n"
   ]
  },
  {
   "cell_type": "markdown",
   "metadata": {},
   "source": [
    "- Quantas partidas há em cada liga na temporada de 2016? "
   ]
  },
  {
   "cell_type": "code",
   "execution_count": 29,
   "metadata": {},
   "outputs": [
    {
     "name": "stdout",
     "output_type": "stream",
     "text": [
      "+---+----------+---------+---------+-----+-------------------+------------+----------------+----------------+--------------+----+\n",
      "| id|country_id|league_id|   season|stage|               date|match_api_id|home_team_api_id|away_team_api_id|home_team_goal|year|\n",
      "+---+----------+---------+---------+-----+-------------------+------------+----------------+----------------+--------------+----+\n",
      "|  1|         1|        1|2008/2009|    1|2008-08-17 00:00:00|      492473|            9987|            9993|             1|2008|\n",
      "|  2|         1|        1|2008/2009|    1|2008-08-16 00:00:00|      492474|           10000|            9994|             0|2008|\n",
      "|  3|         1|        1|2008/2009|    1|2008-08-16 00:00:00|      492475|            9984|            8635|             0|2008|\n",
      "|  4|         1|        1|2008/2009|    1|2008-08-17 00:00:00|      492476|            9991|            9998|             5|2008|\n",
      "|  5|         1|        1|2008/2009|    1|2008-08-16 00:00:00|      492477|            7947|            9985|             1|2008|\n",
      "|  6|         1|        1|2008/2009|    1|2008-09-24 00:00:00|      492478|            8203|            8342|             1|2008|\n",
      "|  7|         1|        1|2008/2009|    1|2008-08-16 00:00:00|      492479|            9999|            8571|             2|2008|\n",
      "|  8|         1|        1|2008/2009|    1|2008-08-16 00:00:00|      492480|            4049|            9996|             1|2008|\n",
      "|  9|         1|        1|2008/2009|    1|2008-08-16 00:00:00|      492481|           10001|            9986|             1|2008|\n",
      "| 10|         1|        1|2008/2009|   10|2008-11-01 00:00:00|      492564|            8342|            8571|             4|2008|\n",
      "| 11|         1|        1|2008/2009|   10|2008-10-31 00:00:00|      492565|            9985|            9986|             1|2008|\n",
      "| 12|         1|        1|2008/2009|   10|2008-11-02 00:00:00|      492566|           10000|            9991|             0|2008|\n",
      "| 13|         1|        1|2008/2009|   10|2008-11-01 00:00:00|      492567|            9994|            9998|             0|2008|\n",
      "| 14|         1|        1|2008/2009|   10|2008-11-01 00:00:00|      492568|            7947|           10001|             2|2008|\n",
      "| 15|         1|        1|2008/2009|   10|2008-11-01 00:00:00|      492569|            8203|            9999|             1|2008|\n",
      "| 16|         1|        1|2008/2009|   10|2008-11-01 00:00:00|      492570|            9996|            9984|             0|2008|\n",
      "| 17|         1|        1|2008/2009|   10|2008-11-01 00:00:00|      492571|            4049|            9987|             1|2008|\n",
      "| 18|         1|        1|2008/2009|   10|2008-11-02 00:00:00|      492572|            9993|            8635|             1|2008|\n",
      "| 19|         1|        1|2008/2009|   11|2008-11-08 00:00:00|      492573|            8635|            9994|             2|2008|\n",
      "| 20|         1|        1|2008/2009|   11|2008-11-08 00:00:00|      492574|            9998|            9996|             0|2008|\n",
      "+---+----------+---------+---------+-----+-------------------+------------+----------------+----------------+--------------+----+\n",
      "only showing top 20 rows\n",
      "\n"
     ]
    }
   ],
   "source": [
    "df_match.createOrReplaceTempView('df_match')\n",
    "df_match_sql = spark.sql(\"\"\"\n",
    "SELECT\n",
    "    *,\n",
    "    YEAR(date) as year\n",
    "FROM df_match\n",
    "\"\"\")\n",
    "df_match_sql.show()"
   ]
  },
  {
   "cell_type": "code",
   "execution_count": 10,
   "metadata": {},
   "outputs": [
    {
     "name": "stdout",
     "output_type": "stream",
     "text": [
      "+-----+----------+--------------------+\n",
      "|   id|country_id|                name|\n",
      "+-----+----------+--------------------+\n",
      "|    1|         1|Belgium Jupiler L...|\n",
      "| 1729|      1729|England Premier L...|\n",
      "| 4769|      4769|      France Ligue 1|\n",
      "| 7809|      7809|Germany 1. Bundes...|\n",
      "|10257|     10257|       Italy Serie A|\n",
      "|13274|     13274|Netherlands Eredi...|\n",
      "|15722|     15722|  Poland Ekstraklasa|\n",
      "|17642|     17642|Portugal Liga ZON...|\n",
      "|19694|     19694|Scotland Premier ...|\n",
      "|21518|     21518|     Spain LIGA BBVA|\n",
      "|24558|     24558|Switzerland Super...|\n",
      "+-----+----------+--------------------+\n",
      "\n"
     ]
    }
   ],
   "source": [
    "df_league.show()"
   ]
  },
  {
   "cell_type": "code",
   "execution_count": null,
   "metadata": {},
   "outputs": [],
   "source": []
  },
  {
   "cell_type": "code",
   "execution_count": null,
   "metadata": {},
   "outputs": [],
   "source": []
  },
  {
   "cell_type": "code",
   "execution_count": null,
   "metadata": {},
   "outputs": [],
   "source": []
  },
  {
   "cell_type": "code",
   "execution_count": null,
   "metadata": {},
   "outputs": [],
   "source": []
  }
 ],
 "metadata": {
  "kernelspec": {
   "display_name": "Python 3 (ipykernel)",
   "language": "python",
   "name": "python3"
  },
  "language_info": {
   "codemirror_mode": {
    "name": "ipython",
    "version": 3
   },
   "file_extension": ".py",
   "mimetype": "text/x-python",
   "name": "python",
   "nbconvert_exporter": "python",
   "pygments_lexer": "ipython3",
   "version": "3.9.12"
  },
  "vscode": {
   "interpreter": {
    "hash": "5a9a036f549c34521959f2e35c11282d59c2fa6997060d671aa6f29f1c44b680"
   }
  }
 },
 "nbformat": 4,
 "nbformat_minor": 2
}
