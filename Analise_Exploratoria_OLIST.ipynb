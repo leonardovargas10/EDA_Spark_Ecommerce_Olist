{
 "cells": [
  {
   "cell_type": "markdown",
   "metadata": {},
   "source": [
    "<h1 style='color: blue; font-size: 34px; font-weight: bold;'> Projeto Proposto \n",
    "</h1>\n",
    "\n",
    "<p style='font-size: 18px; line-height: 2; margin: 0px 0px; text-align: justify; text-indent: 0px;'>    \n",
    "<i> Este projeto baseia-se na aplicação de Técnicas de PySpark em uma Análise Exploratória nos dados de Futebol na Europa. </i>       \n",
    "</p>  "
   ]
  },
  {
   "cell_type": "code",
   "execution_count": 1,
   "metadata": {},
   "outputs": [],
   "source": [
    "#!jt -t chesterish"
   ]
  },
  {
   "cell_type": "markdown",
   "metadata": {},
   "source": [
    "# <font color='red' style='font-size: 40px;'> Library  </font>"
   ]
  },
  {
   "cell_type": "code",
   "execution_count": 2,
   "metadata": {},
   "outputs": [],
   "source": [
    "## Bibliotecas De Manipulação de Dados e Visualização\n",
    "import pandas as pd \n",
    "import matplotlib.pyplot as plt\n",
    "import seaborn as sns\n",
    "from pyspark.sql import SparkSession, Row \n",
    "from pyspark.sql.functions import *\n",
    "import pyspark.sql.functions as F\n",
    "\n",
    "## Bibliotecas de Modelagem Matemática e Estatística\n",
    "import numpy as np\n",
    "import scipy as sp \n",
    "import statsmodels.api as sm\n",
    "import statsmodels.formula.api as smf\n",
    "\n",
    "# Bibliotecas de Manipulação de Tempo\n",
    "from datetime import datetime, date\n",
    "\n",
    "\n",
    "# Parâmetros de Otimização\n",
    "import warnings\n",
    "%matplotlib inline\n",
    "sns.set()\n",
    "plt.rcParams['font.family'] = 'Arial'\n",
    "plt.rcParams['font.size'] = '14'\n",
    "plt.rcParams['figure.figsize'] = [10, 5]\n",
    "pd.set_option('display.max_rows', 100)\n",
    "pd.set_option('display.max_columns', 100)\n",
    "pd.set_option('display.float_format', lambda x: '%.2f' % x) # Tira os números do formato de Notação Científica\n",
    "np.set_printoptions(suppress=True) # Tira os números do formato de Notação Científica em Numpy Arrays\n",
    "warnings.filterwarnings('ignore')\n",
    "warnings.simplefilter(action='ignore', category=FutureWarning) # Retira Future Warnings"
   ]
  },
  {
   "cell_type": "markdown",
   "metadata": {},
   "source": [
    "# <font color='red' style='font-size: 40px;'> Schema </font>\n",
    "\n",
    "<img src='./schema_olist.png' width='70%'>"
   ]
  },
  {
   "cell_type": "markdown",
   "metadata": {},
   "source": [
    "# <font color='red' style='font-size: 40px;'> Entendimento da Base de Dados </font>"
   ]
  },
  {
   "cell_type": "code",
   "execution_count": 3,
   "metadata": {},
   "outputs": [],
   "source": [
    "spark = SparkSession.builder.appName('Olist').getOrCreate()"
   ]
  },
  {
   "cell_type": "markdown",
   "metadata": {},
   "source": [
    "## 1) People Info - Customers, Sellers and Geolocation"
   ]
  },
  {
   "cell_type": "code",
   "execution_count": 4,
   "metadata": {},
   "outputs": [
    {
     "name": "stdout",
     "output_type": "stream",
     "text": [
      "+--------------------+--------------------+------------------------+--------------------+--------------+\n",
      "|         customer_id|  customer_unique_id|customer_zip_code_prefix|       customer_city|customer_state|\n",
      "+--------------------+--------------------+------------------------+--------------------+--------------+\n",
      "|06b8999e2fba1a1fb...|861eff4711a542e4b...|                   14409|              franca|            SP|\n",
      "|18955e83d337fd6b2...|290c77bc529b7ac93...|                   09790|sao bernardo do c...|            SP|\n",
      "|4e7b3e00288586ebd...|060e732b5b29e8181...|                   01151|           sao paulo|            SP|\n",
      "|b2b6027bc5c5109e5...|259dac757896d24d7...|                   08775|     mogi das cruzes|            SP|\n",
      "|4f2d8ab171c80ec83...|345ecd01c38d18a90...|                   13056|            campinas|            SP|\n",
      "|879864dab9bc30475...|4c93744516667ad3b...|                   89254|      jaragua do sul|            SC|\n",
      "|fd826e7cf63160e53...|addec96d2e059c80c...|                   04534|           sao paulo|            SP|\n",
      "|5e274e7a0c3809e14...|57b2a98a409812fe9...|                   35182|             timoteo|            MG|\n",
      "|5adf08e34b2e99398...|1175e95fb47ddff9d...|                   81560|            curitiba|            PR|\n",
      "|4b7139f34592b3a31...|9afe194fb833f79e3...|                   30575|      belo horizonte|            MG|\n",
      "|9fb35e4ed6f0a14a4...|2a7745e1ed516b289...|                   39400|       montes claros|            MG|\n",
      "|5aa9e4fdd4dfd2095...|2a46fb94aef5cbeeb...|                   20231|      rio de janeiro|            RJ|\n",
      "|b2d1536598b73a9ab...|918dc87cd72cd9f6e...|                   18682|    lencois paulista|            SP|\n",
      "|eabebad39a88bb6f5...|295c05e81917928d7...|                   05704|           sao paulo|            SP|\n",
      "|1f1c7bf1c9b041b29...|3151a81801c838636...|                   95110|       caxias do sul|            RS|\n",
      "|206f3129c0e4d7d0b...|21f748a16f4e1688a...|                   13412|          piracicaba|            SP|\n",
      "|a7c125a0a07b75146...|5c2991dbd08bbf3cf...|                   22750|      rio de janeiro|            RJ|\n",
      "|c5c61596a3b6bd0ce...|b6e99561fe6f34a55...|                   07124|           guarulhos|            SP|\n",
      "|9b8ce803689b3562d...|7f3a72e8f988c6e73...|                   05416|           sao paulo|            SP|\n",
      "|49d0ea0986edde72d...|3e6fd6b2f0d499456...|                   68485|              pacaja|            PA|\n",
      "+--------------------+--------------------+------------------------+--------------------+--------------+\n",
      "only showing top 20 rows\n",
      "\n"
     ]
    }
   ],
   "source": [
    "df_customers = spark.read.option('header', 'True').csv('../10_analise_exploratoria_ecommerce_olist/data/olist_customers_dataset.csv')\n",
    "df_customers.show()"
   ]
  },
  {
   "cell_type": "code",
   "execution_count": 5,
   "metadata": {},
   "outputs": [
    {
     "name": "stdout",
     "output_type": "stream",
     "text": [
      "+--------------------+----------------------+-----------------+------------+\n",
      "|           seller_id|seller_zip_code_prefix|      seller_city|seller_state|\n",
      "+--------------------+----------------------+-----------------+------------+\n",
      "|3442f8959a84dea7e...|                 13023|         campinas|          SP|\n",
      "|d1b65fc7debc3361e...|                 13844|       mogi guacu|          SP|\n",
      "|ce3ad9de960102d06...|                 20031|   rio de janeiro|          RJ|\n",
      "|c0f3eea2e14555b6f...|                 04195|        sao paulo|          SP|\n",
      "|51a04a8a6bdcb23de...|                 12914|braganca paulista|          SP|\n",
      "|c240c4061717ac180...|                 20920|   rio de janeiro|          RJ|\n",
      "|e49c26c3edfa46d22...|                 55325|           brejao|          PE|\n",
      "|1b938a7ec6ac5061a...|                 16304|        penapolis|          SP|\n",
      "|768a86e36ad6aae3d...|                 01529|        sao paulo|          SP|\n",
      "|ccc4bbb5f32a6ab2b...|                 80310|         curitiba|          PR|\n",
      "|8cb7c5ddf41f4d506...|                 75110|         anapolis|          GO|\n",
      "|a7a9b880c49781da6...|                 13530|        itirapina|          SP|\n",
      "|8bd0f31cf0a614c65...|                 01222|        sao paulo|          SP|\n",
      "|05a48cc8859962767...|                 05372|        sao paulo|          SP|\n",
      "|7b8e8ec35bad4b0ef...|                 88705|          tubarao|          SC|\n",
      "|1444c08e64d55fb3c...|                 42738| lauro de freitas|          BA|\n",
      "|166e8f1381e096519...|                 88780|         imbituba|          SC|\n",
      "|e38db885400cd35c7...|                 70740|         brasilia|          DF|\n",
      "|d2e753bb80b7d4faa...|                 45810|     porto seguro|          BA|\n",
      "|f9ec7093df3a7b346...|                 05138|        sao paulo|          SP|\n",
      "+--------------------+----------------------+-----------------+------------+\n",
      "only showing top 20 rows\n",
      "\n"
     ]
    }
   ],
   "source": [
    "df_sellers = spark.read.option('header', 'True').csv('../10_analise_exploratoria_ecommerce_olist/data/olist_sellers_dataset.csv')\n",
    "df_sellers.show()"
   ]
  },
  {
   "cell_type": "code",
   "execution_count": 6,
   "metadata": {},
   "outputs": [
    {
     "name": "stdout",
     "output_type": "stream",
     "text": [
      "+---------------------------+-------------------+-------------------+----------------+-----------------+\n",
      "|geolocation_zip_code_prefix|    geolocation_lat|    geolocation_lng|geolocation_city|geolocation_state|\n",
      "+---------------------------+-------------------+-------------------+----------------+-----------------+\n",
      "|                      01037| -23.54562128115268| -46.63929204800168|       sao paulo|               SP|\n",
      "|                      01046|-23.546081127035535| -46.64482029837157|       sao paulo|               SP|\n",
      "|                      01046| -23.54612896641469| -46.64295148361138|       sao paulo|               SP|\n",
      "|                      01041|  -23.5443921648681| -46.63949930627844|       sao paulo|               SP|\n",
      "|                      01035|-23.541577961711493| -46.64160722329613|       sao paulo|               SP|\n",
      "|                      01012|-23.547762303364266| -46.63536053788448|       são paulo|               SP|\n",
      "|                      01047|-23.546273112412678| -46.64122516971552|       sao paulo|               SP|\n",
      "|                      01013|-23.546923208436723|  -46.6342636964915|       sao paulo|               SP|\n",
      "|                      01029|-23.543769055769133| -46.63427784085132|       sao paulo|               SP|\n",
      "|                      01011|-23.547639550320632| -46.63603162315495|       sao paulo|               SP|\n",
      "|                      01013|-23.547325128224376| -46.63418378613892|       sao paulo|               SP|\n",
      "|                      01032| -23.53841810407414|-46.634778375266734|       sao paulo|               SP|\n",
      "|                      01014|-23.546435343326205| -46.63383023397196|       sao paulo|               SP|\n",
      "|                      01012|-23.548945985189434| -46.63467113292871|       sao paulo|               SP|\n",
      "|                      01037|-23.545187340816042| -46.63785524104107|       são paulo|               SP|\n",
      "|                      01046|-23.546081127035535| -46.64482029837157|       sao paulo|               SP|\n",
      "|                      01039|-23.541883009983316| -46.63991946670314|       sao paulo|               SP|\n",
      "|                      01024|-23.541389521053937|-46.629899087812184|       são paulo|               SP|\n",
      "|                      01009| -23.54693540437998| -46.63658792659698|       sao paulo|               SP|\n",
      "|                      01046|-23.545884279214015|-46.643163191240035|       sao paulo|               SP|\n",
      "+---------------------------+-------------------+-------------------+----------------+-----------------+\n",
      "only showing top 20 rows\n",
      "\n"
     ]
    }
   ],
   "source": [
    "df_geolocation = spark.read.option('header', 'True').csv('../10_analise_exploratoria_ecommerce_olist/data/olist_geolocation_dataset.csv')\n",
    "df_geolocation.show()"
   ]
  },
  {
   "cell_type": "markdown",
   "metadata": {},
   "source": [
    "## 2) Orders Info - Orders, Items, Payments, Reviews"
   ]
  },
  {
   "cell_type": "code",
   "execution_count": 7,
   "metadata": {},
   "outputs": [
    {
     "name": "stdout",
     "output_type": "stream",
     "text": [
      "+--------------------+--------------------+------------+------------------------+-------------------+----------------------------+-----------------------------+-----------------------------+\n",
      "|            order_id|         customer_id|order_status|order_purchase_timestamp|  order_approved_at|order_delivered_carrier_date|order_delivered_customer_date|order_estimated_delivery_date|\n",
      "+--------------------+--------------------+------------+------------------------+-------------------+----------------------------+-----------------------------+-----------------------------+\n",
      "|e481f51cbdc54678b...|9ef432eb625129730...|   delivered|     2017-10-02 10:56:33|2017-10-02 11:07:15|         2017-10-04 19:55:00|          2017-10-10 21:25:13|          2017-10-18 00:00:00|\n",
      "|53cdb2fc8bc7dce0b...|b0830fb4747a6c6d2...|   delivered|     2018-07-24 20:41:37|2018-07-26 03:24:27|         2018-07-26 14:31:00|          2018-08-07 15:27:45|          2018-08-13 00:00:00|\n",
      "|47770eb9100c2d0c4...|41ce2a54c0b03bf34...|   delivered|     2018-08-08 08:38:49|2018-08-08 08:55:23|         2018-08-08 13:50:00|          2018-08-17 18:06:29|          2018-09-04 00:00:00|\n",
      "|949d5b44dbf5de918...|f88197465ea7920ad...|   delivered|     2017-11-18 19:28:06|2017-11-18 19:45:59|         2017-11-22 13:39:59|          2017-12-02 00:28:42|          2017-12-15 00:00:00|\n",
      "|ad21c59c0840e6cb8...|8ab97904e6daea886...|   delivered|     2018-02-13 21:18:39|2018-02-13 22:20:29|         2018-02-14 19:46:34|          2018-02-16 18:17:02|          2018-02-26 00:00:00|\n",
      "|a4591c265e18cb1dc...|503740e9ca751ccdd...|   delivered|     2017-07-09 21:57:05|2017-07-09 22:10:13|         2017-07-11 14:58:04|          2017-07-26 10:57:55|          2017-08-01 00:00:00|\n",
      "|136cce7faa42fdb2c...|ed0271e0b7da060a3...|    invoiced|     2017-04-11 12:22:08|2017-04-13 13:25:17|                        null|                         null|          2017-05-09 00:00:00|\n",
      "|6514b8ad8028c9f2c...|9bdf08b4b3b52b552...|   delivered|     2017-05-16 13:10:30|2017-05-16 13:22:11|         2017-05-22 10:07:46|          2017-05-26 12:55:51|          2017-06-07 00:00:00|\n",
      "|76c6e866289321a7c...|f54a9f0e6b351c431...|   delivered|     2017-01-23 18:29:09|2017-01-25 02:50:47|         2017-01-26 14:16:31|          2017-02-02 14:08:10|          2017-03-06 00:00:00|\n",
      "|e69bfb5eb88e0ed6a...|31ad1d1b63eb99624...|   delivered|     2017-07-29 11:55:02|2017-07-29 12:05:32|         2017-08-10 19:45:24|          2017-08-16 17:14:30|          2017-08-23 00:00:00|\n",
      "|e6ce16cb79ec1d90b...|494dded5b201313c6...|   delivered|     2017-05-16 19:41:10|2017-05-16 19:50:18|         2017-05-18 11:40:40|          2017-05-29 11:18:31|          2017-06-07 00:00:00|\n",
      "|34513ce0c4fab462a...|7711cf624183d843a...|   delivered|     2017-07-13 19:58:11|2017-07-13 20:10:08|         2017-07-14 18:43:29|          2017-07-19 14:04:48|          2017-08-08 00:00:00|\n",
      "|82566a660a982b15f...|d3e3b74c766bc6214...|   delivered|     2018-06-07 10:06:19|2018-06-09 03:13:12|         2018-06-11 13:29:00|          2018-06-19 12:05:52|          2018-07-18 00:00:00|\n",
      "|5ff96c15d0b717ac6...|19402a48fe860416a...|   delivered|     2018-07-25 17:44:10|2018-07-25 17:55:14|         2018-07-26 13:16:00|          2018-07-30 15:52:25|          2018-08-08 00:00:00|\n",
      "|432aaf21d85167c2c...|3df704f53d3f1d481...|   delivered|     2018-03-01 14:14:28|2018-03-01 15:10:47|         2018-03-02 21:09:20|          2018-03-12 23:36:26|          2018-03-21 00:00:00|\n",
      "|dcb36b511fcac050b...|3b6828a50ffe54694...|   delivered|     2018-06-07 19:03:12|2018-06-12 23:31:02|         2018-06-11 14:54:00|          2018-06-21 15:34:32|          2018-07-04 00:00:00|\n",
      "|403b97836b0c04a62...|738b086814c6fcc74...|   delivered|     2018-01-02 19:00:43|2018-01-02 19:09:04|         2018-01-03 18:19:09|          2018-01-20 01:38:59|          2018-02-06 00:00:00|\n",
      "|116f0b09343b49556...|3187789bec9909876...|   delivered|     2017-12-26 23:41:31|2017-12-26 23:50:22|         2017-12-28 18:33:05|          2018-01-08 22:36:36|          2018-01-29 00:00:00|\n",
      "|85ce859fd6dc634de...|059f7fc5719c7da6c...|   delivered|     2017-11-21 00:03:41|2017-11-21 00:14:22|         2017-11-23 21:32:26|          2017-11-27 18:28:00|          2017-12-11 00:00:00|\n",
      "|83018ec114eee8641...|7f8c8b9c2ae27bf33...|   delivered|     2017-10-26 15:54:26|2017-10-26 16:08:14|         2017-10-26 21:46:53|          2017-11-08 22:22:00|          2017-11-23 00:00:00|\n",
      "+--------------------+--------------------+------------+------------------------+-------------------+----------------------------+-----------------------------+-----------------------------+\n",
      "only showing top 20 rows\n",
      "\n"
     ]
    }
   ],
   "source": [
    "df_orders = spark.read.option('header', 'True').csv('../10_analise_exploratoria_ecommerce_olist/data/olist_orders_dataset.csv')\n",
    "df_orders.show()"
   ]
  },
  {
   "cell_type": "code",
   "execution_count": 8,
   "metadata": {},
   "outputs": [
    {
     "name": "stdout",
     "output_type": "stream",
     "text": [
      "+--------------------+-------------+--------------------+--------------------+-------------------+------+-------------+\n",
      "|            order_id|order_item_id|          product_id|           seller_id|shipping_limit_date| price|freight_value|\n",
      "+--------------------+-------------+--------------------+--------------------+-------------------+------+-------------+\n",
      "|00010242fe8c5a6d1...|            1|4244733e06e7ecb49...|48436dade18ac8b2b...|2017-09-19 09:45:35| 58.90|        13.29|\n",
      "|00018f77f2f0320c5...|            1|e5f2d52b802189ee6...|dd7ddc04e1b6c2c61...|2017-05-03 11:05:13|239.90|        19.93|\n",
      "|000229ec398224ef6...|            1|c777355d18b72b67a...|5b51032eddd242adc...|2018-01-18 14:48:30|199.00|        17.87|\n",
      "|00024acbcdf0a6daa...|            1|7634da152a4610f15...|9d7a1d34a50524090...|2018-08-15 10:10:18| 12.99|        12.79|\n",
      "|00042b26cf59d7ce6...|            1|ac6c3623068f30de0...|df560393f3a51e745...|2017-02-13 13:57:51|199.90|        18.14|\n",
      "|00048cc3ae777c65d...|            1|ef92defde845ab845...|6426d21aca402a131...|2017-05-23 03:55:27| 21.90|        12.69|\n",
      "|00054e8431b9d7675...|            1|8d4f2bb7e93e6710a...|7040e82f899a04d1b...|2017-12-14 12:10:31| 19.90|        11.85|\n",
      "|000576fe39319847c...|            1|557d850972a7d6f79...|5996cddab893a4652...|2018-07-10 12:30:45|810.00|        70.75|\n",
      "|0005a1a1728c9d785...|            1|310ae3c140ff94b03...|a416b6a846a117243...|2018-03-26 18:31:29|145.95|        11.65|\n",
      "|0005f50442cb953dc...|            1|4535b0e1091c278df...|ba143b05f0110f0dc...|2018-07-06 14:10:56| 53.99|        11.40|\n",
      "|00061f2a7bc09da83...|            1|d63c1011f49d98b97...|cc419e0650a3c5ba7...|2018-03-29 22:28:09| 59.99|         8.88|\n",
      "|00063b381e2406b52...|            1|f177554ea93259a5b...|8602a61d680a10a82...|2018-07-31 17:30:39| 45.00|        12.98|\n",
      "|0006ec9db01a64e59...|            1|99a4788cb24856965...|4a3ca9315b744ce9f...|2018-07-26 17:24:20| 74.00|        23.32|\n",
      "|0008288aa423d2a3f...|            1|368c6c730842d7801...|1f50f920176fa81da...|2018-02-21 02:55:52| 49.90|        13.37|\n",
      "|0008288aa423d2a3f...|            2|368c6c730842d7801...|1f50f920176fa81da...|2018-02-21 02:55:52| 49.90|        13.37|\n",
      "|0009792311464db53...|            1|8cab8abac59158715...|530ec6109d11eaaf8...|2018-08-17 12:15:10| 99.90|        27.65|\n",
      "|0009c9a17f916a706...|            1|3f27ac8e699df3d30...|fcb5ace8bcc92f757...|2018-05-02 09:31:53|639.00|        11.34|\n",
      "|000aed2e25dbad2f9...|            1|4fa33915031a8cde0...|fe2032dab1a61af87...|2018-05-16 20:57:03|144.00|         8.77|\n",
      "|000c3e6612759851c...|            1|b50c950aba0dcead2...|218d46b86c1881d02...|2017-08-21 03:33:13| 99.00|        13.71|\n",
      "|000e562887b1f2006...|            1|5ed9eaf534f6936b5...|8cbac7e12637ed9cf...|2018-02-28 12:08:37| 25.00|        16.11|\n",
      "+--------------------+-------------+--------------------+--------------------+-------------------+------+-------------+\n",
      "only showing top 20 rows\n",
      "\n"
     ]
    }
   ],
   "source": [
    "df_order_items = spark.read.option('header', 'True').csv('../10_analise_exploratoria_ecommerce_olist/data/olist_order_items_dataset.csv')\n",
    "df_order_items.show()"
   ]
  },
  {
   "cell_type": "code",
   "execution_count": 9,
   "metadata": {},
   "outputs": [
    {
     "name": "stdout",
     "output_type": "stream",
     "text": [
      "+--------------------+------------------+------------+--------------------+-------------+\n",
      "|            order_id|payment_sequential|payment_type|payment_installments|payment_value|\n",
      "+--------------------+------------------+------------+--------------------+-------------+\n",
      "|b81ef226f3fe1789b...|                 1| credit_card|                   8|        99.33|\n",
      "|a9810da82917af2d9...|                 1| credit_card|                   1|        24.39|\n",
      "|25e8ea4e93396b6fa...|                 1| credit_card|                   1|        65.71|\n",
      "|ba78997921bbcdc13...|                 1| credit_card|                   8|       107.78|\n",
      "|42fdf880ba16b47b5...|                 1| credit_card|                   2|       128.45|\n",
      "|298fcdf1f73eb413e...|                 1| credit_card|                   2|        96.12|\n",
      "|771ee386b001f0620...|                 1| credit_card|                   1|        81.16|\n",
      "|3d7239c394a212faa...|                 1| credit_card|                   3|        51.84|\n",
      "|1f78449c87a54faf9...|                 1| credit_card|                   6|       341.09|\n",
      "|0573b5e23cbd79800...|                 1|      boleto|                   1|        51.95|\n",
      "|d88e0d5fa41661ce0...|                 1| credit_card|                   8|       188.73|\n",
      "|2480f727e869fdeb3...|                 1| credit_card|                   1|       141.90|\n",
      "|616105c9352a9668c...|                 1| credit_card|                   1|        75.78|\n",
      "|cf95215a722f3ebf2...|                 1| credit_card|                   5|       102.66|\n",
      "|769214176682788a9...|                 1| credit_card|                   4|       105.28|\n",
      "|12e5cfe0e4716b59a...|                 1| credit_card|                  10|       157.45|\n",
      "|61059985a6fc0ad64...|                 1| credit_card|                   1|       132.04|\n",
      "|79da3f5fe31ad1e45...|                 1| credit_card|                   1|        98.94|\n",
      "|8ac09207f415d55ac...|                 1| credit_card|                   4|       244.15|\n",
      "|b2349a3f20dfbeef6...|                 1| credit_card|                   3|       136.71|\n",
      "+--------------------+------------------+------------+--------------------+-------------+\n",
      "only showing top 20 rows\n",
      "\n"
     ]
    }
   ],
   "source": [
    "df_order_payments = spark.read.option('header', 'True').csv('../10_analise_exploratoria_ecommerce_olist/data/olist_order_payments_dataset.csv')\n",
    "df_order_payments.show()"
   ]
  },
  {
   "cell_type": "code",
   "execution_count": 10,
   "metadata": {},
   "outputs": [
    {
     "name": "stdout",
     "output_type": "stream",
     "text": [
      "+--------------------+--------------------+------------+--------------------+----------------------+--------------------+-----------------------+\n",
      "|           review_id|            order_id|review_score|review_comment_title|review_comment_message|review_creation_date|review_answer_timestamp|\n",
      "+--------------------+--------------------+------------+--------------------+----------------------+--------------------+-----------------------+\n",
      "|7bc2406110b926393...|73fc7af87114b3971...|           4|                null|                  null| 2018-01-18 00:00:00|    2018-01-18 21:46:59|\n",
      "|80e641a11e56f04c1...|a548910a1c6147796...|           5|                null|                  null| 2018-03-10 00:00:00|    2018-03-11 03:05:13|\n",
      "|228ce5500dc1d8e02...|f9e4b658b201a9f2e...|           5|                null|                  null| 2018-02-17 00:00:00|    2018-02-18 14:36:24|\n",
      "|e64fb393e7b32834b...|658677c97b385a9be...|           5|                null|  Recebi bem antes ...| 2017-04-21 00:00:00|    2017-04-21 22:02:06|\n",
      "|f7c4243c7fe1938f1...|8e6bfb81e283fa7e4...|           5|                null|  Parabéns lojas la...| 2018-03-01 00:00:00|    2018-03-02 10:26:53|\n",
      "|15197aa66ff4d0650...|b18dcdf73be663668...|           1|                null|                  null| 2018-04-13 00:00:00|    2018-04-16 00:39:37|\n",
      "|07f9bee5d1b850860...|e48aa0d2dcec3a2e8...|           5|                null|                  null| 2017-07-16 00:00:00|    2017-07-18 19:30:34|\n",
      "|7c6400515c67679fb...|c31a859e34e3adac2...|           5|                null|                  null| 2018-08-14 00:00:00|    2018-08-14 21:36:06|\n",
      "|a3f6f7f6f433de0ae...|9c214ac970e842735...|           5|                null|                  null| 2017-05-17 00:00:00|    2017-05-18 12:05:37|\n",
      "|8670d52e15e00043a...|b9bf720beb4ab3728...|           4|           recomendo|  aparelho eficient...| 2018-05-22 00:00:00|    2018-05-23 16:45:47|\n",
      "|c9cfd2d5ab5911836...|cdf9aa68e72324eeb...|           5|                null|                  null| 2017-12-23 00:00:00|    2017-12-26 14:36:03|\n",
      "|96052551d87e5f62e...|3d374c9e46530bb5e...|           5|                null|                  null| 2017-12-19 00:00:00|    2017-12-20 10:25:22|\n",
      "|4b49719c8a200003f...|9d6f15f95d01e79bd...|           4|                null|  Mas um pouco ,tra...|                null|                   null|\n",
      "|,2018-02-16 00:00...|                null|        null|                null|                  null|                null|                   null|\n",
      "|23f75a37effc35d9a...|2eaf8e099d871cd5c...|           4|                null|                  null| 2018-03-28 00:00:00|    2018-03-30 15:10:55|\n",
      "|9a0abbb668bafb95a...|d7bd0e4afdf94846e...|           3|                null|                  null| 2017-04-30 00:00:00|    2017-05-03 00:02:22|\n",
      "|3948b09f7c818e2d8...|e51478e7e277a8374...|           5|     Super recomendo|  Vendedor confiáve...| 2018-05-23 00:00:00|    2018-05-24 03:00:01|\n",
      "|9314d6f9799f5bfba...|0dacf04c5ad59fd5a...|           2|                null|  GOSTARIA DE SABER...| 2018-01-18 00:00:00|    2018-01-20 21:25:45|\n",
      "|8e15a274d95600fa1...|ff1581e08b3011021...|           5|                null|                  null| 2018-03-24 00:00:00|    2018-03-26 15:58:32|\n",
      "|fdbdb2629a7cde0f6...|70a752414a13d09cc...|           3|                null|                  null| 2017-09-29 00:00:00|    2017-10-02 01:12:49|\n",
      "+--------------------+--------------------+------------+--------------------+----------------------+--------------------+-----------------------+\n",
      "only showing top 20 rows\n",
      "\n"
     ]
    }
   ],
   "source": [
    "df_order_reviews = spark.read.option('header', 'True').csv('../10_analise_exploratoria_ecommerce_olist/data/olist_order_reviews_dataset.csv')\n",
    "df_order_reviews.show()"
   ]
  },
  {
   "cell_type": "markdown",
   "metadata": {},
   "source": [
    "## 3) Products - Products and Categories"
   ]
  },
  {
   "cell_type": "code",
   "execution_count": 11,
   "metadata": {},
   "outputs": [
    {
     "name": "stdout",
     "output_type": "stream",
     "text": [
      "+--------------------+---------------------+-------------------+--------------------------+------------------+----------------+-----------------+-----------------+----------------+\n",
      "|          product_id|product_category_name|product_name_lenght|product_description_lenght|product_photos_qty|product_weight_g|product_length_cm|product_height_cm|product_width_cm|\n",
      "+--------------------+---------------------+-------------------+--------------------------+------------------+----------------+-----------------+-----------------+----------------+\n",
      "|1e9e8ef04dbcff454...|           perfumaria|                 40|                       287|                 1|             225|               16|               10|              14|\n",
      "|3aa071139cb16b67c...|                artes|                 44|                       276|                 1|            1000|               30|               18|              20|\n",
      "|96bd76ec8810374ed...|        esporte_lazer|                 46|                       250|                 1|             154|               18|                9|              15|\n",
      "|cef67bcfe19066a93...|                bebes|                 27|                       261|                 1|             371|               26|                4|              26|\n",
      "|9dc1a7de274444849...| utilidades_domest...|                 37|                       402|                 4|             625|               20|               17|              13|\n",
      "|41d3672d4792049fa...| instrumentos_musi...|                 60|                       745|                 1|             200|               38|                5|              11|\n",
      "|732bd381ad09e530f...|           cool_stuff|                 56|                      1272|                 4|           18350|               70|               24|              44|\n",
      "|2548af3e6e77a690c...|     moveis_decoracao|                 56|                       184|                 2|             900|               40|                8|              40|\n",
      "|37cc742be07708b53...|     eletrodomesticos|                 57|                       163|                 1|             400|               27|               13|              17|\n",
      "|8c92109888e8cdf9d...|           brinquedos|                 36|                      1156|                 1|             600|               17|               10|              12|\n",
      "|14aa47b7fe5c25522...|      cama_mesa_banho|                 54|                       630|                 1|            1100|               16|               10|              16|\n",
      "|03b63c5fc16691530...|                bebes|                 49|                       728|                 4|            7150|               50|               19|              45|\n",
      "|cf55509ea8edaaac1...| instrumentos_musi...|                 43|                      1827|                 3|             250|               17|                7|              17|\n",
      "|7bb6f29c2be577161...|     moveis_decoracao|                 51|                      2083|                 2|             600|               68|               11|              13|\n",
      "|eb31436580a610f20...| construcao_ferram...|                 59|                      1602|                 4|             200|               17|                7|              17|\n",
      "|3bb7f144022e67327...|        esporte_lazer|                 22|                      3021|                 1|             800|               16|                2|              11|\n",
      "|6a2fb4dd53d2cdb88...|           perfumaria|                 39|                       346|                 2|             400|               27|                5|              20|\n",
      "|a1b71017a84f92fd8...| informatica_acess...|                 59|                       636|                 1|             900|               40|               15|              20|\n",
      "|a0736b92e52f6cead...|     moveis_decoracao|                 56|                       296|                 2|            1700|              100|                7|              15|\n",
      "|f53103a77d9cf245e...|      cama_mesa_banho|                 52|                       206|                 1|             500|               16|               10|              16|\n",
      "+--------------------+---------------------+-------------------+--------------------------+------------------+----------------+-----------------+-----------------+----------------+\n",
      "only showing top 20 rows\n",
      "\n"
     ]
    }
   ],
   "source": [
    "df_products = spark.read.option('header', 'True').csv('../10_analise_exploratoria_ecommerce_olist/data/olist_products_dataset.csv')\n",
    "df_products.show()"
   ]
  },
  {
   "cell_type": "markdown",
   "metadata": {},
   "source": [
    "# <font color='red' style='font-size: 40px;'> Perguntas a serem Respondidas </font>\n",
    "\n"
   ]
  },
  {
   "cell_type": "code",
   "execution_count": 12,
   "metadata": {},
   "outputs": [],
   "source": [
    "df_customers.createOrReplaceTempView('df_customers')\n",
    "df_sellers.createOrReplaceTempView('df_sellers')\n",
    "df_geolocation.createOrReplaceTempView('df_geolocation')\n",
    "\n",
    "df_orders.createOrReplaceTempView('df_orders')\n",
    "df_order_items.createOrReplaceTempView('df_order_items')\n",
    "df_order_payments.createOrReplaceTempView('df_order_payments')\n",
    "df_order_reviews.createOrReplaceTempView('df_order_reviews')\n",
    "\n",
    "df_products.createOrReplaceTempView('df_products')"
   ]
  },
  {
   "cell_type": "markdown",
   "metadata": {},
   "source": [
    "- 1) Qual o valor máximo gasto para cada cliente?"
   ]
  },
  {
   "cell_type": "code",
   "execution_count": 13,
   "metadata": {},
   "outputs": [
    {
     "name": "stdout",
     "output_type": "stream",
     "text": [
      "+--------------------+------------------------+\n",
      "|  customer_unique_id|preco_maximo_por_cliente|\n",
      "+--------------------+------------------------+\n",
      "|0005e1862207bf6cc...|                  135.00|\n",
      "|0006fdc98a402fceb...|                   13.90|\n",
      "|00090324bbad0e934...|                   49.95|\n",
      "|000c8bdb58a29e711...|                   13.90|\n",
      "|00115fc7123b5310c...|                   59.99|\n",
      "|0011c98589159d614...|                   99.99|\n",
      "|001a3a8e11d76c9a3...|                    9.00|\n",
      "|001deb796b28a3a12...|                   39.90|\n",
      "|001f3c4211216384d...|                   24.88|\n",
      "|0023557a94bef0038...|                   89.90|\n",
      "|002aba8c1af80acac...|                  199.90|\n",
      "|002b4cd83fabaffaa...|                   49.90|\n",
      "|002cdf87d4c03f08f...|                  196.99|\n",
      "|002d71b244beb91ca...|                  115.00|\n",
      "|002eb8b96288f3804...|                  119.90|\n",
      "|0034c76b7e6a17d73...|                   26.00|\n",
      "|0035029989e6fc5cf...|                  219.00|\n",
      "|0035029989e6fc5cf...|                  219.00|\n",
      "|0036a074f98b80c4f...|                   16.99|\n",
      "|0036d365b138cc0ee...|                   79.90|\n",
      "+--------------------+------------------------+\n",
      "only showing top 20 rows\n",
      "\n"
     ]
    }
   ],
   "source": [
    "valor_maximo_por_cliente = spark.sql(\"\"\"\n",
    "WITH table_transaction AS(\n",
    "SELECT\n",
    "    A.customer_unique_id,\n",
    "    C.price\n",
    "FROM df_customers as A\n",
    "LEFT JOIN df_orders as B on A.customer_id = B.customer_id\n",
    "LEFT JOIN df_order_items as C on B.order_id = C.order_id\n",
    "LEFT JOIN df_products as D on C.product_id = D.product_id\n",
    ")\n",
    "SELECT\n",
    "    customer_unique_id,\n",
    "    MAX(price) OVER(PARTITION BY customer_unique_id) as preco_maximo_por_cliente\n",
    "FROM table_transaction\n",
    "\"\"\")\n",
    "valor_maximo_por_cliente.show()"
   ]
  },
  {
   "cell_type": "code",
   "execution_count": 14,
   "metadata": {},
   "outputs": [
    {
     "name": "stdout",
     "output_type": "stream",
     "text": [
      "+-------+------------------------+\n",
      "|summary|PRECO_MAXIMO_POR_CLIENTE|\n",
      "+-------+------------------------+\n",
      "|  count|                   95420|\n",
      "|   mean|      126.55157178787796|\n",
      "| stddev|      192.59068341178767|\n",
      "|    min|                    0.85|\n",
      "|    max|                  999.99|\n",
      "+-------+------------------------+\n",
      "\n"
     ]
    }
   ],
   "source": [
    "valor_maximo_por_cliente.withColumnRenamed('preco_maximo_por_cliente', 'PRECO_MAXIMO_POR_CLIENTE') \\\n",
    "                        .dropDuplicates().select('PRECO_MAXIMO_POR_CLIENTE').describe().show()\n",
    "    "
   ]
  },
  {
   "cell_type": "markdown",
   "metadata": {},
   "source": [
    "- 2) Quanto cada cliente gastou em cada categoria de produto? "
   ]
  },
  {
   "cell_type": "code",
   "execution_count": 15,
   "metadata": {},
   "outputs": [
    {
     "name": "stdout",
     "output_type": "stream",
     "text": [
      "+--------------------+-------------------------+-------------------+\n",
      "|  customer_unique_id|category_products_grouped|preco_por_categoria|\n",
      "+--------------------+-------------------------+-------------------+\n",
      "|0000b849f77a49e4a...|                   OTHERS|               18.9|\n",
      "|0000f6ccb0745a6a4...|                   OTHERS|              44.89|\n",
      "|0004aac84e0df4da2...|                   OTHERS|             224.89|\n",
      "|00050ab1314c0e55a...|                   OTHERS|             252.88|\n",
      "|00053a61a98854899...|                   OTHERS|             634.88|\n",
      "|00053a61a98854899...|                   OTHERS|             634.88|\n",
      "|0005ef4cd20d2893f...|                   OTHERS|             739.78|\n",
      "|00082cbe03e478190...|                   OTHERS|             818.78|\n",
      "|000a5ad9c4601d2bb...|                   OTHERS|             895.77|\n",
      "|000d460961d6dbfa3...|                   OTHERS|             924.67|\n",
      "|000fbf0473c10fc1a...|                   OTHERS| 1210.4699999999998|\n",
      "|000fbf0473c10fc1a...|                   OTHERS| 1210.4699999999998|\n",
      "|000fbf0473c10fc1a...|                   OTHERS| 1210.4699999999998|\n",
      "|000fbf0473c10fc1a...|                   OTHERS| 1210.4699999999998|\n",
      "|00115fc7123b5310c...|                   OTHERS| 1270.4599999999998|\n",
      "|0011857aff0e5871c...|                   OTHERS| 1444.7899999999997|\n",
      "|0012929d977a8d728...|                   OTHERS| 1574.6899999999998|\n",
      "|0014a5a58da615f7b...|                   OTHERS| 1662.6899999999998|\n",
      "|0015752e079902b12...|                   OTHERS|            1722.49|\n",
      "|0015752e079902b12...|                   OTHERS|            1722.49|\n",
      "+--------------------+-------------------------+-------------------+\n",
      "only showing top 20 rows\n",
      "\n"
     ]
    }
   ],
   "source": [
    "gasto_por_categoria = spark.sql(\"\"\"\n",
    "WITH table_transaction AS(\n",
    "SELECT\n",
    "    A.customer_unique_id,\n",
    "    CASE \n",
    "        WHEN D.product_category_name in ('informatica_acessorios', 'eletroportateis' , 'consoles_games' , 'audio', 'eletronicos' , 'eletrodomesticos' , 'pcs' , 'eletrodomesticos_2', 'musica', 'cds_dvds_musicais', 'dvds_blu_ray') THEN 'ELECTRONICS'\n",
    "        WHEN D.product_category_name in ('cama_mesa_banho', 'moveis_decoracao', 'utilidades_domesticas', 'ferramentas_jardim', 'cool_stuff', 'climatizacao', 'construcao_ferramentas_construcao', 'moveis_cozinha_area_de_servico_jantar_e_jardim', 'construcao_ferramentas_jardim', 'moveis_escritorio', 'casa_conforto', 'construcao_ferramentas_ferramentas', 'moveis_colchao_e_estofado', 'casa_construcao', 'moveis_sala', 'construcao_ferramentas_iluminacao', 'artes', 'moveis_quarto', 'construcao_ferramentas_seguranca', 'sinalizacao_e_seguranca', 'la_cuisine', 'portateis_casa_forno_e_cafe') THEN 'HOUSE'\n",
    "        WHEN D.product_category_name in ('perfumaria', 'alimentos_bebidas', 'bebes', 'papelaria', 'pet_shop', 'alimentos', 'bebidas', 'fraldas_higiene') THEN 'PRODUCTS'\n",
    "        WHEN D.product_category_name in ('health_beauty', 'auto', 'sports_leisure', 'telephony', 'fixed_telephony', 'market_place', 'agro_industry_and_commerce', 'industry_commerce_and_business', 'security_and_services') THEN 'SERVICES'\n",
    "        WHEN D.product_category_name in ('fashion_bolsas_e_acessorios', 'fashion_roupa_masculina', 'fashion_underwear_e_moda_praia', 'fashion_esporte', 'fashion_roupa_feminina', 'fashion_roupa_infanto_juvenil') THEN 'FASHION'\n",
    "        ELSE 'OTHERS'\n",
    "    END as category_products_grouped,\n",
    "    C.price\n",
    "FROM df_customers as A\n",
    "LEFT JOIN df_orders as B on A.customer_id = B.customer_id\n",
    "LEFT JOIN df_order_items as C on B.order_id = C.order_id\n",
    "LEFT JOIN df_products as D on C.product_id = D.product_id\n",
    ")\n",
    "SELECT\n",
    "    customer_unique_id,\n",
    "    category_products_grouped,\n",
    "    SUM(price) OVER(PARTITION BY category_products_grouped ORDER BY customer_unique_id) as preco_por_categoria\n",
    "FROM table_transaction\n",
    "\"\"\")\n",
    "gasto_por_categoria.show()"
   ]
  },
  {
   "cell_type": "code",
   "execution_count": 16,
   "metadata": {},
   "outputs": [
    {
     "name": "stdout",
     "output_type": "stream",
     "text": [
      "+-------------------------+--------------------+\n",
      "|category_products_grouped|     somatoria_preco|\n",
      "+-------------------------+--------------------+\n",
      "|                   OTHERS|1.114105890487495...|\n",
      "|                    HOUSE|7.376935888965402E10|\n",
      "|              ELECTRONICS|1.167618306071960...|\n",
      "|                 PRODUCTS| 7.244687620370094E9|\n",
      "|                  FASHION| 1.904901691399985E8|\n",
      "|                 SERVICES|          4092459.74|\n",
      "+-------------------------+--------------------+\n",
      "\n"
     ]
    }
   ],
   "source": [
    "gasto_por_categoria.dropDuplicates().groupBy('category_products_grouped').sum('preco_por_categoria') \\\n",
    ".withColumnRenamed('sum(preco_por_categoria)', 'somatoria_preco').orderBy(F.col('somatoria_preco').desc()).show()"
   ]
  },
  {
   "cell_type": "markdown",
   "metadata": {},
   "source": [
    "- 3) Qual foi o preço da última compra de cada cliente?"
   ]
  },
  {
   "cell_type": "code",
   "execution_count": 17,
   "metadata": {
    "scrolled": true
   },
   "outputs": [
    {
     "name": "stdout",
     "output_type": "stream",
     "text": [
      "+--------------------+------+----+\n",
      "|  customer_unique_id| price|rank|\n",
      "+--------------------+------+----+\n",
      "|0005e1862207bf6cc...|135.00|   1|\n",
      "|0006fdc98a402fceb...| 13.90|   1|\n",
      "|00090324bbad0e934...| 49.95|   1|\n",
      "|000c8bdb58a29e711...| 13.90|   1|\n",
      "|00115fc7123b5310c...| 59.99|   1|\n",
      "|0011c98589159d614...| 99.99|   1|\n",
      "|001a3a8e11d76c9a3...|  9.00|   1|\n",
      "|001deb796b28a3a12...| 39.90|   1|\n",
      "|001f3c4211216384d...| 24.88|   1|\n",
      "|0023557a94bef0038...| 89.90|   1|\n",
      "|002aba8c1af80acac...|199.90|   1|\n",
      "|002b4cd83fabaffaa...| 49.90|   1|\n",
      "|002cdf87d4c03f08f...|196.99|   1|\n",
      "|002d71b244beb91ca...|115.00|   1|\n",
      "|002eb8b96288f3804...|119.90|   1|\n",
      "|0034c76b7e6a17d73...| 26.00|   1|\n",
      "|0035029989e6fc5cf...|219.00|   1|\n",
      "|0035029989e6fc5cf...|219.00|   2|\n",
      "|0036a074f98b80c4f...| 16.99|   1|\n",
      "|0036d365b138cc0ee...| 79.90|   1|\n",
      "+--------------------+------+----+\n",
      "only showing top 20 rows\n",
      "\n"
     ]
    }
   ],
   "source": [
    "preco_ultima_compra = spark.sql(\"\"\"\n",
    "WITH table_transaction AS(\n",
    "SELECT\n",
    "    A.customer_unique_id,\n",
    "    CASE \n",
    "        WHEN D.product_category_name in ('informatica_acessorios', 'eletroportateis' , 'consoles_games' , 'audio', 'eletronicos' , 'eletrodomesticos' , 'pcs' , 'eletrodomesticos_2', 'musica', 'cds_dvds_musicais', 'dvds_blu_ray') THEN 'ELECTRONICS'\n",
    "        WHEN D.product_category_name in ('cama_mesa_banho', 'moveis_decoracao', 'utilidades_domesticas', 'ferramentas_jardim', 'cool_stuff', 'climatizacao', 'construcao_ferramentas_construcao', 'moveis_cozinha_area_de_servico_jantar_e_jardim', 'construcao_ferramentas_jardim', 'moveis_escritorio', 'casa_conforto', 'construcao_ferramentas_ferramentas', 'moveis_colchao_e_estofado', 'casa_construcao', 'moveis_sala', 'construcao_ferramentas_iluminacao', 'artes', 'moveis_quarto', 'construcao_ferramentas_seguranca', 'sinalizacao_e_seguranca', 'la_cuisine', 'portateis_casa_forno_e_cafe') THEN 'HOUSE'\n",
    "        WHEN D.product_category_name in ('perfumaria', 'alimentos_bebidas', 'bebes', 'papelaria', 'pet_shop', 'alimentos', 'bebidas', 'fraldas_higiene') THEN 'PRODUCTS'\n",
    "        WHEN D.product_category_name in ('health_beauty', 'auto', 'sports_leisure', 'telephony', 'fixed_telephony', 'market_place', 'agro_industry_and_commerce', 'industry_commerce_and_business', 'security_and_services') THEN 'SERVICES'\n",
    "        WHEN D.product_category_name in ('fashion_bolsas_e_acessorios', 'fashion_roupa_masculina', 'fashion_underwear_e_moda_praia', 'fashion_esporte', 'fashion_roupa_feminina', 'fashion_roupa_infanto_juvenil') THEN 'FASHION'\n",
    "        ELSE 'OTHERS'\n",
    "    END as category_products_grouped,\n",
    "    C.price,\n",
    "    CAST(B.order_purchase_timestamp as date) as date\n",
    "FROM df_customers as A\n",
    "LEFT JOIN df_orders as B on A.customer_id = B.customer_id\n",
    "LEFT JOIN df_order_items as C on B.order_id = C.order_id\n",
    "LEFT JOIN df_products as D on C.product_id = D.product_id\n",
    ")\n",
    "SELECT\n",
    "    customer_unique_id,\n",
    "    price,\n",
    "    ROW_NUMBER() OVER(PARTITION BY customer_unique_id ORDER BY date desc) as rank\n",
    "FROM table_transaction\n",
    "\"\"\")\n",
    "preco_ultima_compra.show()"
   ]
  },
  {
   "cell_type": "code",
   "execution_count": 26,
   "metadata": {},
   "outputs": [
    {
     "name": "stdout",
     "output_type": "stream",
     "text": [
      "+--------------------+------+----+------------+\n",
      "|  customer_unique_id| price|rank|   Intervalo|\n",
      "+--------------------+------+----+------------+\n",
      "|0005e1862207bf6cc...|135.00|   1|Preços Altos|\n",
      "|0006fdc98a402fceb...| 13.90|   1| Baixo Preço|\n",
      "|00090324bbad0e934...| 49.95|   1| Baixo Preço|\n",
      "|000c8bdb58a29e711...| 13.90|   1| Baixo Preço|\n",
      "|00115fc7123b5310c...| 59.99|   1| Baixo Preço|\n",
      "|0011c98589159d614...| 99.99|   1| Baixo Preço|\n",
      "|001a3a8e11d76c9a3...|  9.00|   1| Baixo Preço|\n",
      "|001deb796b28a3a12...| 39.90|   1| Baixo Preço|\n",
      "|001f3c4211216384d...| 24.88|   1| Baixo Preço|\n",
      "|0023557a94bef0038...| 89.90|   1| Baixo Preço|\n",
      "|002aba8c1af80acac...|199.90|   1|Preços Altos|\n",
      "|002b4cd83fabaffaa...| 49.90|   1| Baixo Preço|\n",
      "|002cdf87d4c03f08f...|196.99|   1|Preços Altos|\n",
      "|002d71b244beb91ca...|115.00|   1|Preços Altos|\n",
      "|002eb8b96288f3804...|119.90|   1|Preços Altos|\n",
      "|0034c76b7e6a17d73...| 26.00|   1| Baixo Preço|\n",
      "|0035029989e6fc5cf...|219.00|   1|Preços Altos|\n",
      "|0036a074f98b80c4f...| 16.99|   1| Baixo Preço|\n",
      "|0036d365b138cc0ee...| 79.90|   1| Baixo Preço|\n",
      "|003800162424b7b5b...| 85.50|   1| Baixo Preço|\n",
      "+--------------------+------+----+------------+\n",
      "only showing top 20 rows\n",
      "\n"
     ]
    }
   ],
   "source": [
    "intervalo_preco_ultima_compra = preco_ultima_compra.filter((F.col('rank') == 1) & (F.col('price').isNotNull()))\n",
    "intervalo_preco_ultima_compra.withColumn('Intervalo', F.when(preco_ultima_compra.price <= 100, 'Baixo Preço').otherwise('Preços Altos')).show()\n"
   ]
  },
  {
   "cell_type": "markdown",
   "metadata": {},
   "source": [
    "- 4) Qual a média de preços de cada categoria de produtos em cada estado? "
   ]
  },
  {
   "cell_type": "code",
   "execution_count": 19,
   "metadata": {
    "scrolled": false
   },
   "outputs": [
    {
     "name": "stdout",
     "output_type": "stream",
     "text": [
      "+-----+-------------------------+-----------+----+\n",
      "|state|category_products_grouped|preco_medio|rank|\n",
      "+-----+-------------------------+-----------+----+\n",
      "|   BA|              ELECTRONICS|      161.2|   1|\n",
      "|   GO|              ELECTRONICS|      130.0|   1|\n",
      "|   MA|              ELECTRONICS|     239.93|   1|\n",
      "|   MG|              ELECTRONICS|     119.15|   1|\n",
      "|   MT|              ELECTRONICS|     176.95|   1|\n",
      "|   PA|              ELECTRONICS|      136.9|   1|\n",
      "|   PE|              ELECTRONICS|     185.15|   1|\n",
      "|   PR|              ELECTRONICS|     123.19|   1|\n",
      "|   RJ|              ELECTRONICS|     155.93|   1|\n",
      "|   AM|                  FASHION|     699.99|   1|\n",
      "|   MT|                  FASHION|      33.13|   1|\n",
      "|   PA|                  FASHION|      64.92|   1|\n",
      "|   RJ|                  FASHION|     100.76|   1|\n",
      "|   RN|                  FASHION|     299.86|   1|\n",
      "|   RS|                  FASHION|     105.03|   1|\n",
      "|   SE|                  FASHION|      50.92|   1|\n",
      "|   SP|                  FASHION|      65.36|   1|\n",
      "| null|                    HOUSE|     115.17|   1|\n",
      "|   BA|                    HOUSE|      133.1|   1|\n",
      "|   MG|                    HOUSE|     109.04|   1|\n",
      "+-----+-------------------------+-----------+----+\n",
      "only showing top 20 rows\n",
      "\n"
     ]
    }
   ],
   "source": [
    "media_precos = spark.sql(\"\"\"\n",
    "WITH table_transaction AS(\n",
    "SELECT\n",
    "    A.customer_unique_id,\n",
    "    CASE \n",
    "        WHEN D.product_category_name in ('informatica_acessorios', 'eletroportateis' , 'consoles_games' , 'audio', 'eletronicos' , 'eletrodomesticos' , 'pcs' , 'eletrodomesticos_2', 'musica', 'cds_dvds_musicais', 'dvds_blu_ray') THEN 'ELECTRONICS'\n",
    "        WHEN D.product_category_name in ('cama_mesa_banho', 'moveis_decoracao', 'utilidades_domesticas', 'ferramentas_jardim', 'cool_stuff', 'climatizacao', 'construcao_ferramentas_construcao', 'moveis_cozinha_area_de_servico_jantar_e_jardim', 'construcao_ferramentas_jardim', 'moveis_escritorio', 'casa_conforto', 'construcao_ferramentas_ferramentas', 'moveis_colchao_e_estofado', 'casa_construcao', 'moveis_sala', 'construcao_ferramentas_iluminacao', 'artes', 'moveis_quarto', 'construcao_ferramentas_seguranca', 'sinalizacao_e_seguranca', 'la_cuisine', 'portateis_casa_forno_e_cafe') THEN 'HOUSE'\n",
    "        WHEN D.product_category_name in ('perfumaria', 'alimentos_bebidas', 'bebes', 'papelaria', 'pet_shop', 'alimentos', 'bebidas', 'fraldas_higiene') THEN 'PRODUCTS'\n",
    "        WHEN D.product_category_name in ('health_beauty', 'auto', 'sports_leisure', 'telephony', 'fixed_telephony', 'market_place', 'agro_industry_and_commerce', 'industry_commerce_and_business', 'security_and_services') THEN 'SERVICES'\n",
    "        WHEN D.product_category_name in ('fashion_bolsas_e_acessorios', 'fashion_roupa_masculina', 'fashion_underwear_e_moda_praia', 'fashion_esporte', 'fashion_roupa_feminina', 'fashion_roupa_infanto_juvenil') THEN 'FASHION'\n",
    "        ELSE 'OTHERS'\n",
    "    END as category_products_grouped,\n",
    "    C.price,\n",
    "    E.geolocation_state as state\n",
    "FROM df_customers as A\n",
    "LEFT JOIN df_orders as B on A.customer_id = B.customer_id\n",
    "LEFT JOIN df_order_items as C on B.order_id = C.order_id\n",
    "LEFT JOIN df_products as D on C.product_id = D.product_id\n",
    "LEFT JOIN df_geolocation as E on A.customer_zip_code_prefix = E.geolocation_zip_code_prefix\n",
    "),\n",
    "table_transaction_2 AS (\n",
    "SELECT\n",
    "    state,\n",
    "    category_products_grouped,\n",
    "    ROUND(MEAN(price) OVER(PARTITION BY category_products_grouped, state), 2) as preco_medio,\n",
    "    ROW_NUMBER() OVER(PARTITION BY category_products_grouped, state ORDER BY category_products_grouped) as rank\n",
    "FROM table_transaction\n",
    ")\n",
    "SELECT * FROM table_transaction_2 WHERE rank = 1\n",
    "\"\"\")\n",
    "media_precos.show()"
   ]
  },
  {
   "cell_type": "code",
   "execution_count": 31,
   "metadata": {},
   "outputs": [
    {
     "name": "stdout",
     "output_type": "stream",
     "text": [
      "+-----+------------------+\n",
      "|state|  avg(preco_medio)|\n",
      "+-----+------------------+\n",
      "|   SC|109.65333333333332|\n",
      "|   RO|136.65166666666667|\n",
      "|   AM|232.24833333333333|\n",
      "|   GO|105.98333333333333|\n",
      "|   TO|            136.03|\n",
      "|   MT|           129.245|\n",
      "|   SP|100.65166666666666|\n",
      "|   PB|184.64499999999998|\n",
      "|   RS|115.02333333333333|\n",
      "|   MS|113.34666666666665|\n",
      "|   MG|109.67999999999999|\n",
      "|   PA|            130.97|\n",
      "|   BA| 158.1183333333333|\n",
      "|   SE|126.62333333333333|\n",
      "|   PE|118.04666666666667|\n",
      "|   RN|166.92666666666665|\n",
      "|   RJ|116.50166666666667|\n",
      "|   MA|131.45833333333334|\n",
      "|   AC|148.24833333333333|\n",
      "|   DF|112.52499999999999|\n",
      "+-----+------------------+\n",
      "only showing top 20 rows\n",
      "\n"
     ]
    }
   ],
   "source": [
    "media_precos.groupBy('state').mean('preco_medio').withColumnRenamed('preco_medio', 'preco_medio_estado') \\\n",
    ".filter(F.col('state').isNotNull()).show()"
   ]
  },
  {
   "cell_type": "markdown",
   "metadata": {},
   "source": [
    "- 5) Quais os principais meios de pagamento em cada um dos estados?"
   ]
  },
  {
   "cell_type": "code",
   "execution_count": 20,
   "metadata": {
    "scrolled": true
   },
   "outputs": [
    {
     "name": "stdout",
     "output_type": "stream",
     "text": [
      "+-----+------------+-------------+\n",
      "|state|payment_type|qt_pagamentos|\n",
      "+-----+------------+-------------+\n",
      "| null| credit_card|          215|\n",
      "| null|      boleto|           57|\n",
      "| null|     voucher|           14|\n",
      "| null|  debit_card|            1|\n",
      "|   AC| credit_card|         5701|\n",
      "|   AC|      boleto|         1773|\n",
      "|   AC|     voucher|          602|\n",
      "|   AC|  debit_card|           23|\n",
      "|   AL| credit_card|        27974|\n",
      "|   AL|      boleto|         6294|\n",
      "|   AL|     voucher|          952|\n",
      "|   AL|  debit_card|          620|\n",
      "|   AM| credit_card|         4844|\n",
      "|   AM|      boleto|          663|\n",
      "|   AM|     voucher|          164|\n",
      "|   AM|  debit_card|           79|\n",
      "|   AP| credit_card|         3349|\n",
      "|   AP|      boleto|         1438|\n",
      "|   AP|     voucher|          241|\n",
      "|   BA| credit_card|       288234|\n",
      "+-----+------------+-------------+\n",
      "only showing top 20 rows\n",
      "\n"
     ]
    }
   ],
   "source": [
    "principais_meios_de_pagamento = spark.sql(\"\"\"\n",
    "WITH table_transaction AS(\n",
    "SELECT\n",
    "    A.customer_unique_id,\n",
    "    C.payment_type,\n",
    "    D.geolocation_state as state\n",
    "FROM df_customers as A\n",
    "LEFT JOIN df_orders as B on A.customer_id = B.customer_id\n",
    "LEFT JOIN df_order_payments as C on C.order_id = B.order_id\n",
    "LEFT JOIN df_geolocation as D on A.customer_zip_code_prefix = D.geolocation_zip_code_prefix\n",
    ")\n",
    "SELECT\n",
    "    state,\n",
    "    payment_type,\n",
    "    COUNT(*) as qt_pagamentos\n",
    "FROM table_transaction\n",
    "GROUP BY 1, 2\n",
    "ORDER BY state asc, qt_pagamentos desc\n",
    "\"\"\")\n",
    "principais_meios_de_pagamento.show()"
   ]
  },
  {
   "cell_type": "markdown",
   "metadata": {},
   "source": [
    "- 6) Selecione o principal meio de pagamento de cada estado."
   ]
  },
  {
   "cell_type": "code",
   "execution_count": 21,
   "metadata": {},
   "outputs": [
    {
     "name": "stdout",
     "output_type": "stream",
     "text": [
      "+-----+------------+-------------+----+\n",
      "|state|payment_type|qt_pagamentos|rank|\n",
      "+-----+------------+-------------+----+\n",
      "| null| credit_card|          215|   1|\n",
      "|   AC| credit_card|         5701|   1|\n",
      "|   AL| credit_card|        27974|   1|\n",
      "|   AM| credit_card|         4844|   1|\n",
      "|   AP| credit_card|         3349|   1|\n",
      "|   BA| credit_card|       288234|   1|\n",
      "|   CE| credit_card|        52660|   1|\n",
      "|   DF| credit_card|        74498|   1|\n",
      "|   ES| credit_card|       247377|   1|\n",
      "|   GO| credit_card|        99545|   1|\n",
      "|   MA| credit_card|        38705|   1|\n",
      "|   MG| credit_card|      2260778|   1|\n",
      "|   MS| credit_card|        43609|   1|\n",
      "|   MT| credit_card|        91908|   1|\n",
      "|   PA| credit_card|        63230|   1|\n",
      "|   PB| credit_card|        22378|   1|\n",
      "|   PE| credit_card|        90451|   1|\n",
      "|   PI| credit_card|        18745|   1|\n",
      "|   PR| credit_card|       473670|   1|\n",
      "|   RJ| credit_card|      2428105|   1|\n",
      "+-----+------------+-------------+----+\n",
      "only showing top 20 rows\n",
      "\n"
     ]
    }
   ],
   "source": [
    "principal_meio_de_pagamento = spark.sql(\"\"\"\n",
    "WITH table_transaction AS(\n",
    "SELECT\n",
    "    A.customer_unique_id,\n",
    "    C.payment_type,\n",
    "    D.geolocation_state as state\n",
    "FROM df_customers as A\n",
    "LEFT JOIN df_orders as B on A.customer_id = B.customer_id\n",
    "LEFT JOIN df_order_payments as C on C.order_id = B.order_id\n",
    "LEFT JOIN df_geolocation as D on A.customer_zip_code_prefix = D.geolocation_zip_code_prefix\n",
    "),\n",
    "table_transaction_2 AS (\n",
    "SELECT\n",
    "    state,\n",
    "    payment_type,\n",
    "    COUNT(*) as qt_pagamentos\n",
    "FROM table_transaction\n",
    "GROUP BY 1, 2\n",
    "ORDER BY state asc, qt_pagamentos desc\n",
    "),\n",
    "table_transaction_3 AS(\n",
    "SELECT \n",
    "    *,\n",
    "    ROW_NUMBER() OVER(PARTITION BY state ORDER BY qt_pagamentos desc) as rank\n",
    "FROM table_transaction_2\n",
    ")\n",
    "SELECT * FROM table_transaction_3 WHERE rank = 1\n",
    "\"\"\")\n",
    "principal_meio_de_pagamento.show()"
   ]
  },
  {
   "cell_type": "markdown",
   "metadata": {},
   "source": [
    "- 7) Para clientes que comparam mais de uma vez, qual a diferença de dias entre a primeira e a última compra de cada cliente?"
   ]
  },
  {
   "cell_type": "code",
   "execution_count": 22,
   "metadata": {},
   "outputs": [
    {
     "name": "stdout",
     "output_type": "stream",
     "text": [
      "+--------------------+---------------------------+\n",
      "|  customer_unique_id|diff_primeira_ultima_compra|\n",
      "+--------------------+---------------------------+\n",
      "|0035029989e6fc5cf...|                      219.0|\n",
      "|0035029989e6fc5cf...|                        0.0|\n",
      "|004288347e5e88a27...|                       87.9|\n",
      "|004288347e5e88a27...|                     142.09|\n",
      "|004b45ec5c6418746...|                       27.0|\n",
      "|004b45ec5c6418746...|                       32.9|\n",
      "|00504b68faa074d0f...|                       89.0|\n",
      "|00504b68faa074d0f...|                      -26.0|\n",
      "|005754cb59f8ee5cd...|                     110.32|\n",
      "|005754cb59f8ee5cd...|                        0.0|\n",
      "|0063817060d662048...|                       18.9|\n",
      "|0063817060d662048...|                        0.0|\n",
      "|008b06aba4b5f5b5b...|                      33.99|\n",
      "|008b06aba4b5f5b5b...|                        0.0|\n",
      "|00a39521eb40f7012...|                      11.55|\n",
      "|00a39521eb40f7012...|                      58.35|\n",
      "|00adeda9b742746c0...|                     1449.5|\n",
      "|00adeda9b742746c0...|                     -820.5|\n",
      "|00b1066a65657ee17...|                       24.9|\n",
      "|00b1066a65657ee17...|                        0.0|\n",
      "+--------------------+---------------------------+\n",
      "only showing top 20 rows\n",
      "\n"
     ]
    }
   ],
   "source": [
    "diferenca_dias_primeira_ultima_compra = spark.sql(\"\"\"\n",
    "WITH table_transaction AS(\n",
    "SELECT\n",
    "    A.customer_unique_id,\n",
    "    C.price,\n",
    "    CAST(B.order_purchase_timestamp as date) as date\n",
    "FROM df_customers as A\n",
    "LEFT JOIN df_orders as B on A.customer_id = B.customer_id\n",
    "LEFT JOIN df_order_items as C on B.order_id = C.order_id\n",
    "),\n",
    "table_transaction_2 AS (\n",
    "SELECT\n",
    "    customer_unique_id,\n",
    "    price,\n",
    "    date,\n",
    "    ROW_NUMBER() OVER(PARTITION BY customer_unique_id ORDER BY customer_unique_id, date desc) as rank\n",
    "FROM table_transaction\n",
    "),\n",
    "table_transaction_3 AS (\n",
    "SELECT \n",
    "    *,\n",
    "    COALESCE(LAG(price) OVER(PARTITION BY customer_unique_id ORDER BY RANK), 0) as lag\n",
    "FROM table_transaction_2 \n",
    "WHERE customer_unique_id in (SELECT customer_unique_id FROM table_transaction_2 WHERE rank <> 1)\n",
    ")\n",
    "SELECT \n",
    "    customer_unique_id, \n",
    "    ROUND(price-lag, 2) as diff_primeira_ultima_compra\n",
    "FROM table_transaction_3\n",
    "\"\"\")\n",
    "diferenca_dias_primeira_ultima_compra.show()"
   ]
  },
  {
   "cell_type": "markdown",
   "metadata": {},
   "source": [
    "- 8) Defina, para cada um dos meios de pagamento, quais meses tiveram mais receita."
   ]
  },
  {
   "cell_type": "code",
   "execution_count": 23,
   "metadata": {},
   "outputs": [
    {
     "name": "stdout",
     "output_type": "stream",
     "text": [
      "+-------------------------+------+-----------+\n",
      "|category_products_grouped| cdmes|faturamento|\n",
      "+-------------------------+------+-----------+\n",
      "|              ELECTRONICS|201803|  150852.45|\n",
      "|              ELECTRONICS|201802|  150540.65|\n",
      "|              ELECTRONICS|201804|  148664.73|\n",
      "|              ELECTRONICS|201801|  144676.07|\n",
      "|              ELECTRONICS|201711|  126208.73|\n",
      "|              ELECTRONICS|201805|  118677.53|\n",
      "|              ELECTRONICS|201710|  112341.18|\n",
      "|              ELECTRONICS|201709|   110555.2|\n",
      "|              ELECTRONICS|201806|  104595.47|\n",
      "|              ELECTRONICS|201807|  102406.78|\n",
      "|              ELECTRONICS|201708|   94591.83|\n",
      "|              ELECTRONICS|201808|   90401.72|\n",
      "|              ELECTRONICS|201712|   87340.93|\n",
      "|              ELECTRONICS|201705|   67269.14|\n",
      "|              ELECTRONICS|201707|   63138.73|\n",
      "|              ELECTRONICS|201706|    60780.6|\n",
      "|              ELECTRONICS|201703|   58401.16|\n",
      "|              ELECTRONICS|201704|   56276.26|\n",
      "|              ELECTRONICS|201702|   29222.38|\n",
      "|              ELECTRONICS|201701|    16532.4|\n",
      "+-------------------------+------+-----------+\n",
      "only showing top 20 rows\n",
      "\n"
     ]
    }
   ],
   "source": [
    "meses_com_maior_receita = spark.sql(\"\"\"\n",
    "WITH table_transaction AS(\n",
    "SELECT\n",
    "    A.customer_unique_id,\n",
    "    CASE \n",
    "        WHEN D.product_category_name in ('informatica_acessorios', 'eletroportateis' , 'consoles_games' , 'audio', 'eletronicos' , 'eletrodomesticos' , 'pcs' , 'eletrodomesticos_2', 'musica', 'cds_dvds_musicais', 'dvds_blu_ray') THEN 'ELECTRONICS'\n",
    "        WHEN D.product_category_name in ('cama_mesa_banho', 'moveis_decoracao', 'utilidades_domesticas', 'ferramentas_jardim', 'cool_stuff', 'climatizacao', 'construcao_ferramentas_construcao', 'moveis_cozinha_area_de_servico_jantar_e_jardim', 'construcao_ferramentas_jardim', 'moveis_escritorio', 'casa_conforto', 'construcao_ferramentas_ferramentas', 'moveis_colchao_e_estofado', 'casa_construcao', 'moveis_sala', 'construcao_ferramentas_iluminacao', 'artes', 'moveis_quarto', 'construcao_ferramentas_seguranca', 'sinalizacao_e_seguranca', 'la_cuisine', 'portateis_casa_forno_e_cafe') THEN 'HOUSE'\n",
    "        WHEN D.product_category_name in ('perfumaria', 'alimentos_bebidas', 'bebes', 'papelaria', 'pet_shop', 'alimentos', 'bebidas', 'fraldas_higiene') THEN 'PRODUCTS'\n",
    "        WHEN D.product_category_name in ('health_beauty', 'auto', 'sports_leisure', 'telephony', 'fixed_telephony', 'market_place', 'agro_industry_and_commerce', 'industry_commerce_and_business', 'security_and_services') THEN 'SERVICES'\n",
    "        WHEN D.product_category_name in ('fashion_bolsas_e_acessorios', 'fashion_roupa_masculina', 'fashion_underwear_e_moda_praia', 'fashion_esporte', 'fashion_roupa_feminina', 'fashion_roupa_infanto_juvenil') THEN 'FASHION'\n",
    "        ELSE 'OTHERS'\n",
    "    END as category_products_grouped,\n",
    "    C.price,\n",
    "    CAST(B.order_purchase_timestamp as date) as date,\n",
    "    YEAR(CAST(B.order_purchase_timestamp as date))*100 + MONTH(CAST(B.order_purchase_timestamp as date)) as cdmes\n",
    "FROM df_customers as A\n",
    "LEFT JOIN df_orders as B on A.customer_id = B.customer_id\n",
    "LEFT JOIN df_order_items as C on B.order_id = C.order_id\n",
    "LEFT JOIN df_products as D on C.product_id = D.product_id\n",
    ")\n",
    "SELECT\n",
    "    category_products_grouped,\n",
    "    cdmes,\n",
    "    ROUND(SUM(price), 2) as faturamento\n",
    "FROM table_transaction\n",
    "GROUP BY 1, 2\n",
    "ORDER BY 1, 3 desc\n",
    "\"\"\")\n",
    "meses_com_maior_receita.show()"
   ]
  },
  {
   "cell_type": "markdown",
   "metadata": {},
   "source": [
    "- 9) Qual a diferença de dias entre a data de compra e data de review para cada cliente?"
   ]
  },
  {
   "cell_type": "code",
   "execution_count": 24,
   "metadata": {},
   "outputs": [
    {
     "name": "stdout",
     "output_type": "stream",
     "text": [
      "+--------------------+-------------+-----------+----------------+\n",
      "|  customer_unique_id|date_purchase|date_review|       diff_days|\n",
      "+--------------------+-------------+-----------+----------------+\n",
      "|861eff4711a542e4b...|   2017-05-16| 2017-05-26|              10|\n",
      "|290c77bc529b7ac93...|   2018-01-12| 2018-01-30|              18|\n",
      "|060e732b5b29e8181...|   2018-05-19| 2018-06-15|              27|\n",
      "|259dac757896d24d7...|   2018-03-13| 2018-03-29|              16|\n",
      "|345ecd01c38d18a90...|   2018-07-29| 2018-08-10|              12|\n",
      "|4c93744516667ad3b...|   2017-09-14| 2017-09-29|              15|\n",
      "|addec96d2e059c80c...|   2018-02-19| 2018-02-21|               2|\n",
      "|57b2a98a409812fe9...|   2017-11-16| 2017-11-28|              12|\n",
      "|1175e95fb47ddff9d...|   2018-01-18| 2018-01-27|               9|\n",
      "|9afe194fb833f79e3...|   2018-01-08| 2018-01-14|               6|\n",
      "|2a7745e1ed516b289...|   2017-11-27| 2017-12-09|              12|\n",
      "|2a46fb94aef5cbeeb...|   2018-02-07| 2018-02-27|              20|\n",
      "|918dc87cd72cd9f6e...|   2017-09-09| 2017-09-21|              12|\n",
      "|295c05e81917928d7...|   2018-03-07| 2018-03-16|               9|\n",
      "|3151a81801c838636...|   2018-04-01| 2018-04-14|              13|\n",
      "|21f748a16f4e1688a...|   2018-01-29| 2018-02-09|              11|\n",
      "|5c2991dbd08bbf3cf...|   2018-08-13| 2018-08-18|               5|\n",
      "|b6e99561fe6f34a55...|   2018-06-18| 2018-06-22|               4|\n",
      "|7f3a72e8f988c6e73...|   2017-05-11|       null|Não Houve Review|\n",
      "|3e6fd6b2f0d499456...|   2017-11-01| 2017-12-03|              32|\n",
      "+--------------------+-------------+-----------+----------------+\n",
      "only showing top 20 rows\n",
      "\n"
     ]
    }
   ],
   "source": [
    "diferenca_dias_compra_review = spark.sql(\"\"\"\n",
    "WITH table_transaction AS(\n",
    "SELECT\n",
    "    A.customer_unique_id,\n",
    "    CAST(B.order_purchase_timestamp as date) as date_purchase,\n",
    "    CAST(E.review_creation_date as date) as date_review\n",
    "FROM df_customers as A\n",
    "LEFT JOIN df_orders as B on A.customer_id = B.customer_id\n",
    "LEFT JOIN df_order_items as C on B.order_id = C.order_id\n",
    "LEFT JOIN df_products as D on C.product_id = D.product_id\n",
    "LEFT JOIN df_order_reviews as E on E.order_id = B.order_id\n",
    ")\n",
    "SELECT\n",
    "    *,\n",
    "    COALESCE(DATEDIFF(day, date_purchase, date_review), 'Não Houve Review') as diff_days\n",
    "FROM table_transaction\n",
    "\"\"\")\n",
    "diferenca_dias_compra_review.show()"
   ]
  },
  {
   "cell_type": "code",
   "execution_count": null,
   "metadata": {},
   "outputs": [],
   "source": []
  }
 ],
 "metadata": {
  "kernelspec": {
   "display_name": "Python 3 (ipykernel)",
   "language": "python",
   "name": "python3"
  },
  "language_info": {
   "codemirror_mode": {
    "name": "ipython",
    "version": 3
   },
   "file_extension": ".py",
   "mimetype": "text/x-python",
   "name": "python",
   "nbconvert_exporter": "python",
   "pygments_lexer": "ipython3",
   "version": "3.9.12"
  },
  "vscode": {
   "interpreter": {
    "hash": "5a9a036f549c34521959f2e35c11282d59c2fa6997060d671aa6f29f1c44b680"
   }
  }
 },
 "nbformat": 4,
 "nbformat_minor": 4
}
